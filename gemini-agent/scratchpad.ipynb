{
 "cells": [
  {
   "cell_type": "code",
   "execution_count": 1,
   "metadata": {},
   "outputs": [],
   "source": [
    "from IPython.display import display, Markdown"
   ]
  },
  {
   "cell_type": "code",
   "execution_count": 2,
   "metadata": {},
   "outputs": [],
   "source": [
    "# do bm25 first then vector? nope. maybe just bm25"
   ]
  },
  {
   "cell_type": "code",
   "execution_count": 3,
   "metadata": {},
   "outputs": [
    {
     "name": "stdout",
     "output_type": "stream",
     "text": [
      "/Users/arjun/Documents/github/smart-agent/gemini-agent/data/ec_sop.csv\n",
      "csv present\n"
     ]
    }
   ],
   "source": [
    "from sub_agents import knowledge_agent\n",
    "# knowledge agent can answer questions from  multiple databases\n",
    "# when the model gets smarter - i only need retrieval, no rag chain needed within the knowledge function"
   ]
  },
  {
   "cell_type": "code",
   "execution_count": 4,
   "metadata": {},
   "outputs": [],
   "source": [
    "query = \"what is internal settlement?\""
   ]
  },
  {
   "cell_type": "code",
   "execution_count": 5,
   "metadata": {},
   "outputs": [
    {
     "name": "stdout",
     "output_type": "stream",
     "text": [
      "An internal settlement transaction is a transaction between two Euroclear Bank clients. The transaction settles in Euroclear Bank and can be either:\n",
      "\n",
      "* against payment in any of the payment currencies eligible in Euroclear Bank provided that the security has the multi-currency treatment flag open\n",
      "* free of payment\n"
     ]
    }
   ],
   "source": [
    "answer = knowledge_agent.execute_task(query)"
   ]
  },
  {
   "cell_type": "code",
   "execution_count": 6,
   "metadata": {},
   "outputs": [
    {
     "data": {
      "text/markdown": [
       "Internal settlement is a transaction between two Euroclear Bank clients. The transaction settles in Euroclear Bank and can be either:\n",
       "* against payment in any of the payment currencies eligible in Euroclear Bank provided that the security has the multi-currency treatment flag open \n",
       "* free of payment"
      ],
      "text/plain": [
       "<IPython.core.display.Markdown object>"
      ]
     },
     "execution_count": 6,
     "metadata": {},
     "output_type": "execute_result"
    }
   ],
   "source": [
    "Markdown(answer)"
   ]
  },
  {
   "cell_type": "code",
   "execution_count": null,
   "metadata": {},
   "outputs": [],
   "source": []
  }
 ],
 "metadata": {
  "kernelspec": {
   "display_name": "agentnv",
   "language": "python",
   "name": "python3"
  },
  "language_info": {
   "codemirror_mode": {
    "name": "ipython",
    "version": 3
   },
   "file_extension": ".py",
   "mimetype": "text/x-python",
   "name": "python",
   "nbconvert_exporter": "python",
   "pygments_lexer": "ipython3",
   "version": "3.11.6"
  }
 },
 "nbformat": 4,
 "nbformat_minor": 2
}
