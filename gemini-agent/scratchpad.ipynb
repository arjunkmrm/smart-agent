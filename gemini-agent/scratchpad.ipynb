{
 "cells": [
  {
   "cell_type": "code",
   "execution_count": 1,
   "metadata": {},
   "outputs": [],
   "source": [
    "from IPython.display import display, Markdown"
   ]
  },
  {
   "cell_type": "code",
   "execution_count": 2,
   "metadata": {},
   "outputs": [],
   "source": [
    "# do bm25 first then vector? nope. maybe just bm25"
   ]
  },
  {
   "cell_type": "code",
   "execution_count": 3,
   "metadata": {},
   "outputs": [
    {
     "name": "stdout",
     "output_type": "stream",
     "text": [
      "/Users/arjun/Documents/github/smart-agent/gemini-agent/data/ec_sop.csv\n",
      "csv present\n",
      "/Users/arjun/Documents/github/smart-agent/gemini-agent/data/sop_docs.csv\n",
      "csv present\n"
     ]
    }
   ],
   "source": [
    "from sub_agents import knowledge_agent\n",
    "# knowledge agent can answer questions from  multiple databases\n",
    "# when the model gets smarter - i only need retrieval, no rag chain needed within the knowledge function"
   ]
  },
  {
   "cell_type": "code",
   "execution_count": 7,
   "metadata": {},
   "outputs": [],
   "source": [
    "query = \"noticed there is discrpency when validating trade, what to do?\""
   ]
  },
  {
   "cell_type": "code",
   "execution_count": 8,
   "metadata": {},
   "outputs": [
    {
     "name": "stdout",
     "output_type": "stream",
     "text": [
      "calling sop_assistant...\n",
      "noticed there is discrpency when validating trade what to do\n",
      "\n",
      "Document Numbe\n",
      "If you have noticed a discrepancy when validating a trade, you should follow the standard operating procedure outlined in the \"Validating Trade Details\" document. Here are the steps you should take:\n",
      "\n",
      "1. **Escalate the Discrepancies**:\n",
      "   - Document any discrepancies or issues you have identified during the validation process in the Trade Validation Log.\n",
      "   - Next, escalate the discrepancies to the appropriate team or subject matter expert for resolution.\n",
      "   - Follow up on the resolution and update the Trade Validation Log accordingly.\n",
      "\n",
      "2. **Record Validation**:\n",
      "   - Once the trade details have been validated and any discrepancies resolved, record the validation in the Trade Validation Log.\n",
      "   - Include essential information such as Trade ID, Validation date, Validator's name, Outcome (Validated or Discrepancy), Discrepancy details (if applicable), and Resolution details (if applicable).\n",
      "\n",
      "3. **Frequency of Trade Validation**:\n",
      "   - Trade validation should be performed on a daily basis, or as per the established trade processing schedule as mentioned in the SOP.\n",
      "\n",
      "Following these steps will help ensure that the discrepancies in the trade validation process are appropriately addressed and resolved. \n",
      "\n",
      "For more detailed guidance, you can refer to the full document on [Validating Trade Details](#).\n"
     ]
    }
   ],
   "source": [
    "answer = knowledge_agent.execute_task(query)"
   ]
  },
  {
   "cell_type": "code",
   "execution_count": 9,
   "metadata": {},
   "outputs": [
    {
     "data": {
      "text/markdown": [
       "If you have noticed a discrepancy when validating a trade, follow these steps:\n",
       "\n",
       "1. Document the discrepancy in the Trade Validation Log.\n",
       "2. Escalate the discrepancy to the appropriate team or subject matter expert for resolution.\n",
       "3. Follow up on the resolution and update the Trade Validation Log accordingly.\n",
       "4. Once the discrepancy has been resolved, record the validation in the Trade Validation Log.\n",
       "\n",
       "Remember to perform trade validation on a daily basis, or as per the established trade processing schedule."
      ],
      "text/plain": [
       "<IPython.core.display.Markdown object>"
      ]
     },
     "execution_count": 9,
     "metadata": {},
     "output_type": "execute_result"
    }
   ],
   "source": [
    "Markdown(answer)"
   ]
  },
  {
   "cell_type": "code",
   "execution_count": 7,
   "metadata": {},
   "outputs": [],
   "source": [
    "from openai import OpenAI\n",
    "client = OpenAI()"
   ]
  },
  {
   "cell_type": "code",
   "execution_count": 8,
   "metadata": {},
   "outputs": [],
   "source": [
    "def chat_openai(prompt):\n",
    "    completion = client.chat.completions.create(\n",
    "    model=\"gpt-3.5-turbo\",\n",
    "    messages=[\n",
    "        {\"role\": \"system\", \"content\": \"You are an assistant who help answer user's question based on given inormation.\"},\n",
    "        {\"role\": \"user\", \"content\": f\"{prompt}\"}\n",
    "    ]\n",
    "    )\n",
    "\n",
    "    return completion.choices[0].message"
   ]
  },
  {
   "cell_type": "code",
   "execution_count": 9,
   "metadata": {},
   "outputs": [],
   "source": [
    "answer = chat_openai(\"hello\")"
   ]
  },
  {
   "cell_type": "code",
   "execution_count": 11,
   "metadata": {},
   "outputs": [
    {
     "data": {
      "text/plain": [
       "'Hello! How can I assist you today?'"
      ]
     },
     "execution_count": 11,
     "metadata": {},
     "output_type": "execute_result"
    }
   ],
   "source": [
    "answer.content"
   ]
  },
  {
   "cell_type": "code",
   "execution_count": null,
   "metadata": {},
   "outputs": [],
   "source": []
  }
 ],
 "metadata": {
  "kernelspec": {
   "display_name": "agentnv",
   "language": "python",
   "name": "python3"
  },
  "language_info": {
   "codemirror_mode": {
    "name": "ipython",
    "version": 3
   },
   "file_extension": ".py",
   "mimetype": "text/x-python",
   "name": "python",
   "nbconvert_exporter": "python",
   "pygments_lexer": "ipython3",
   "version": "3.11.6"
  }
 },
 "nbformat": 4,
 "nbformat_minor": 2
}
