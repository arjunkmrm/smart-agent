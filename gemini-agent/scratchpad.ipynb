{
 "cells": [
  {
   "cell_type": "code",
   "execution_count": 13,
   "metadata": {},
   "outputs": [],
   "source": [
    "from IPython.display import display, Markdown"
   ]
  },
  {
   "cell_type": "code",
   "execution_count": 14,
   "metadata": {},
   "outputs": [],
   "source": [
    "# do bm25 first then vector? nope. maybe just bm25"
   ]
  },
  {
   "cell_type": "code",
   "execution_count": 15,
   "metadata": {},
   "outputs": [
    {
     "name": "stdout",
     "output_type": "stream",
     "text": [
      "/Users/arjun/Documents/github/smart-agent/gemini-agent/data/ec_sop.csv\n",
      "csv present\n",
      "/Users/arjun/Documents/github/smart-agent/gemini-agent/data/sop_docs.csv\n",
      "csv present\n"
     ]
    }
   ],
   "source": [
    "from sub_agents import knowledge_agent\n",
    "# knowledge agent can answer questions from  multiple databases\n",
    "# when the model gets smarter - i only need retrieval, no rag chain needed within the knowledge function"
   ]
  },
  {
   "cell_type": "code",
   "execution_count": 16,
   "metadata": {},
   "outputs": [],
   "source": [
    "query = \"i'm new to the team, what should i take note?\""
   ]
  },
  {
   "cell_type": "code",
   "execution_count": 17,
   "metadata": {},
   "outputs": [
    {
     "name": "stdout",
     "output_type": "stream",
     "text": [
      "calling sop_assistant...\n",
      "i'm new to the team, what should i take note?\n",
      "\n",
      "Document Numbe\n",
      "As a new member of the Market Operations team at Acme Financial Solutions, there are several key points to take note of based on the provided \"onboarding\" document:\n",
      "\n",
      "1. **Responsibilities and Contacts:**\n",
      "   - The HR Department handles the overall onboarding process and ensures compliance with company policies.\n",
      "   - The Team Lead assigns you a buddy from the team who will guide you through the onboarding process.\n",
      "   - Key contacts include Team Lead John Doe, HR Manager Jane Smith, and IT Support.\n",
      "\n",
      "2. **Onboarding Process:**\n",
      "   - Pre-Onboarding:\n",
      "     - You will receive a welcome email with essential information.\n",
      "     - The Team Lead will assign you a buddy.\n",
      "   - First Day:\n",
      "     - Report to HR for general onboarding and paperwork.\n",
      "     - Introduce yourself during the daily standup meeting.\n",
      "   - First Week:\n",
      "     - Your buddy will schedule training with subject matter experts.\n",
      "     - Get access to relevant systems and documentation.\n",
      "   - Ongoing Support:\n",
      "     - Your buddy will be available for guidance for the first month.\n",
      "     - Regular check-ins will be conducted by the Team Lead.\n",
      "\n",
      "3. **Related Documents:**\n",
      "   - Employee Handbook\n",
      "   - Market Operations Policies and Procedures Manual\n",
      "   - Information Security Policies\n",
      "\n",
      "4. **Review and Update:**\n",
      "   - The SOP will be reviewed and updated annually by the Team Lead.\n",
      "\n",
      "If you have any specific questions or need further details, feel free to ask or refer back to the \"onboarding\" document for more comprehensive information.\n",
      "\n",
      "For more detailed information, you can refer to the full document [here](#).\n"
     ]
    }
   ],
   "source": [
    "answer = knowledge_agent.execute_task(query)"
   ]
  },
  {
   "cell_type": "code",
   "execution_count": 18,
   "metadata": {},
   "outputs": [
    {
     "data": {
      "text/markdown": [
       "1. responsibilities and contacts are handled by the HR department\n",
       "2. you will be assigned a buddy from the team who will guide you through the onboarding process\n",
       "3. key contacts include Team Lead John Doe, HR Manager Jane Smith, and IT Support\n",
       "4. the onboarding process is divided into three stages: pre-onboarding, first day, and first week\n",
       "5. ongoing support will be provided by your buddy and the Team Lead\n",
       "6. related documents include the Employee Handbook, Market Operations Policies and Procedures Manual, and Information Security Policies\n",
       "7. the SOP will be reviewed and updated annually by the Team Lead\n",
       "\n",
       "Is there anything else you would like to know about being new to the team?"
      ],
      "text/plain": [
       "<IPython.core.display.Markdown object>"
      ]
     },
     "execution_count": 18,
     "metadata": {},
     "output_type": "execute_result"
    }
   ],
   "source": [
    "Markdown(answer)"
   ]
  },
  {
   "cell_type": "code",
   "execution_count": 2,
   "metadata": {},
   "outputs": [
    {
     "data": {
      "text/plain": [
       "True"
      ]
     },
     "execution_count": 2,
     "metadata": {},
     "output_type": "execute_result"
    }
   ],
   "source": [
    "from dotenv import load_dotenv\n",
    "load_dotenv()"
   ]
  },
  {
   "cell_type": "code",
   "execution_count": 3,
   "metadata": {},
   "outputs": [],
   "source": [
    "from openai import OpenAI\n",
    "client = OpenAI()"
   ]
  },
  {
   "cell_type": "code",
   "execution_count": 4,
   "metadata": {},
   "outputs": [],
   "source": [
    "def chat_openai(prompt):\n",
    "    completion = client.chat.completions.create(\n",
    "    model=\"gpt-3.5-turbo\",\n",
    "    messages=[\n",
    "        {\"role\": \"system\", \"content\": \"You are an assistant who help answer user's question based on given inormation.\"},\n",
    "        {\"role\": \"user\", \"content\": f\"{prompt}\"}\n",
    "    ]\n",
    "    )\n",
    "\n",
    "    return completion.choices[0].message"
   ]
  },
  {
   "cell_type": "code",
   "execution_count": 9,
   "metadata": {},
   "outputs": [],
   "source": [
    "answer = chat_openai(\"bro how are you\")"
   ]
  },
  {
   "cell_type": "code",
   "execution_count": 10,
   "metadata": {},
   "outputs": [
    {
     "data": {
      "text/plain": [
       "\"Hello! I'm here to assist you with any questions or information you may need. How can I help you today?\""
      ]
     },
     "execution_count": 10,
     "metadata": {},
     "output_type": "execute_result"
    }
   ],
   "source": [
    "answer.content"
   ]
  },
  {
   "cell_type": "code",
   "execution_count": null,
   "metadata": {},
   "outputs": [],
   "source": []
  }
 ],
 "metadata": {
  "kernelspec": {
   "display_name": "agentnv",
   "language": "python",
   "name": "python3"
  },
  "language_info": {
   "codemirror_mode": {
    "name": "ipython",
    "version": 3
   },
   "file_extension": ".py",
   "mimetype": "text/x-python",
   "name": "python",
   "nbconvert_exporter": "python",
   "pygments_lexer": "ipython3",
   "version": "3.11.6"
  }
 },
 "nbformat": 4,
 "nbformat_minor": 2
}
