{
 "cells": [
  {
   "cell_type": "code",
   "execution_count": null,
   "metadata": {},
   "outputs": [],
   "source": [
    "# create fake trade data\n",
    "# counterparty and email data\n",
    "# fake emails"
   ]
  },
  {
   "cell_type": "code",
   "execution_count": null,
   "metadata": {},
   "outputs": [],
   "source": [
    "import uuid\n",
    "import pandas as pd\n",
    "from faker import Faker\n",
    "import random\n",
    "from datetime import timedelta\n",
    "\n",
    "faker = Faker()\n",
    "\n",
    "def generate_trade():\n",
    "    trade_directions = ['buy', 'sell']\n",
    "    trade_statuses = ['Matched', 'Unmatched', 'Unsettled', 'Settled', 'no feedback', 'others']\n",
    "    currencies = ['USD', 'EUR', 'JPY', 'GBP', 'CHF']\n",
    "\n",
    "    deal_reference = \"2\" + faker.numerify(text='#######')\n",
    "    counterparty = faker.company()\n",
    "    isin = faker.isin()\n",
    "    trade_date = faker.date_between(start_date='-2y', end_date='today')\n",
    "    value_date = trade_date + timedelta(days=random.randint(1, 10))  # Assuming settlement can take up to 10 days\n",
    "    nominal_amount = round(random.uniform(10000, 1000000), 2)\n",
    "    settlement_amount = nominal_amount  # Simplification; in reality, this might factor in price, rates, etc.\n",
    "    trade_direction = random.choice(trade_directions)\n",
    "    ccy = random.choice(currencies)\n",
    "    our_ssi = \"EC 92416\"\n",
    "    counterparty_ssi = \"EC \" + faker.numerify(text='#####')\n",
    "    user_remark = faker.sentence()\n",
    "    trade_status = random.choice(trade_statuses)\n",
    "\n",
    "    trade = {\n",
    "        \"deal_reference\": deal_reference,\n",
    "        \"counterparty\": counterparty,\n",
    "        \"isin\": isin,\n",
    "        \"trade_date\": trade_date,\n",
    "        \"value_date\": value_date,\n",
    "        \"nominal_amount\": nominal_amount,\n",
    "        \"settlement_amount\": settlement_amount,\n",
    "        \"trade_direction\": trade_direction,\n",
    "        \"ccy\": ccy,\n",
    "        \"our_ssi\": our_ssi,\n",
    "        \"counterparty_ssi\": counterparty_ssi,\n",
    "        \"user_remark\": user_remark,\n",
    "        \"trade_status\": trade_status,\n",
    "    }\n",
    "\n",
    "    return trade\n",
    "\n",
    "def create_fake_trades_df(n):\n",
    "    trades = [generate_trade() for _ in range(n)]\n",
    "    df = pd.DataFrame(trades)\n",
    "    return df\n",
    "\n",
    "# Example usage\n",
    "df = create_fake_trades_df(10)  # Create a DataFrame with 10 fake trades\n",
    "print(df)\n"
   ]
  }
 ],
 "metadata": {
  "kernelspec": {
   "display_name": "llmnv",
   "language": "python",
   "name": "python3"
  },
  "language_info": {
   "name": "python",
   "version": "3.11.6"
  }
 },
 "nbformat": 4,
 "nbformat_minor": 2
}
