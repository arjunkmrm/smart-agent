{
 "cells": [
  {
   "cell_type": "code",
   "execution_count": 1,
   "metadata": {},
   "outputs": [],
   "source": [
    "from vertexai.preview.generative_models import (\n",
    "    Content,\n",
    "    FunctionDeclaration,\n",
    "    GenerativeModel,\n",
    "    Part,\n",
    "    Tool,\n",
    ")"
   ]
  },
  {
   "cell_type": "markdown",
   "metadata": {},
   "source": [
    "define tools"
   ]
  },
  {
   "cell_type": "code",
   "execution_count": 2,
   "metadata": {},
   "outputs": [],
   "source": [
    "from vertexai import generative_models\n",
    "from vertexai.generative_models import GenerativeModel\n",
    "model = GenerativeModel(\"gemini-pro\")\n",
    "\n",
    "search_knowledge_func = FunctionDeclaration(\n",
    "    name=\"search_knowledge\",\n",
    "    description=\"to answer any question related to trade settlement, tennis players, and countries information like tourism websites\",\n",
    "    parameters={\n",
    "    \"type\": \"object\",\n",
    "    \"properties\": {\n",
    "        \"query\": {\n",
    "            \"type\": \"string\",\n",
    "            \"description\": \"your rephrased search query to retrieve knowledge from a vector database\"\n",
    "        },\n",
    "    },\n",
    "         \"required\": [\n",
    "            \"query\"\n",
    "      ]\n",
    "  },\n",
    ")\n",
    "\n",
    "search_tool = generative_models.Tool(\n",
    "  function_declarations=[search_knowledge_func],\n",
    ")"
   ]
  },
  {
   "cell_type": "markdown",
   "metadata": {},
   "source": [
    "set up vector engine"
   ]
  },
  {
   "cell_type": "code",
   "execution_count": 3,
   "metadata": {},
   "outputs": [],
   "source": [
    "from vectorengine import VectorEngine\n",
    "ecsop = VectorEngine(folder_path=\"docs/general-docs\", collection_name=\"sop\")"
   ]
  },
  {
   "cell_type": "code",
   "execution_count": 7,
   "metadata": {},
   "outputs": [],
   "source": [
    "GENERAL_ASSISTANT = \"\"\"\n",
    "You are Sage, a friendly and helpful agent who helps users using the given functions. \n",
    "Strictly don't make assumptions about what values to plug into functions. \n",
    "\"\"\""
   ]
  },
  {
   "cell_type": "code",
   "execution_count": 8,
   "metadata": {},
   "outputs": [
    {
     "name": "stdout",
     "output_type": "stream",
     "text": [
      "model_response:\n",
      " I am Sage, a multimodal AI language model, ready to help you with a variety of knowledge-based tasks. How can I assist you today?\n"
     ]
    }
   ],
   "source": [
    "function_calling_chat = model.start_chat(response_validation=False)\n",
    "model_response = function_calling_chat.send_message(f\"{GENERAL_ASSISTANT}\", tools=[search_tool])\n",
    "print(\"model_response:\\n\", model_response.text)"
   ]
  },
  {
   "cell_type": "code",
   "execution_count": 9,
   "metadata": {},
   "outputs": [],
   "source": [
    "query = \"what is internal settlement?\""
   ]
  },
  {
   "cell_type": "code",
   "execution_count": 10,
   "metadata": {},
   "outputs": [],
   "source": [
    "model_response = function_calling_chat.send_message(query, tools=[search_tool])"
   ]
  },
  {
   "cell_type": "code",
   "execution_count": null,
   "metadata": {},
   "outputs": [],
   "source": []
  }
 ],
 "metadata": {
  "kernelspec": {
   "display_name": "llmnv",
   "language": "python",
   "name": "python3"
  },
  "language_info": {
   "codemirror_mode": {
    "name": "ipython",
    "version": 3
   },
   "file_extension": ".py",
   "mimetype": "text/x-python",
   "name": "python",
   "nbconvert_exporter": "python",
   "pygments_lexer": "ipython3",
   "version": "3.11.6"
  }
 },
 "nbformat": 4,
 "nbformat_minor": 2
}
