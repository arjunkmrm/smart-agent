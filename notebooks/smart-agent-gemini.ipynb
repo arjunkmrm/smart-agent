{
 "cells": [
  {
   "cell_type": "code",
   "execution_count": 1,
   "metadata": {
    "id": "Nqwi-5ufWp_B",
    "tags": []
   },
   "outputs": [
    {
     "data": {
      "text/plain": [
       "True"
      ]
     },
     "execution_count": 1,
     "metadata": {},
     "output_type": "execute_result"
    }
   ],
   "source": [
    "import os\n",
    "import vertexai\n",
    "import pandas as pd\n",
    "from ast import literal_eval\n",
    "import chromadb\n",
    "from dotenv import load_dotenv\n",
    "vertexai.init(project=\"smart-agent-414407\")\n",
    "from vertexai.preview.generative_models import GenerativeModel\n",
    "from vertexai.language_models import TextEmbeddingModel\n",
    "from vertexai.preview.generative_models import (\n",
    "    Content,\n",
    "    FunctionDeclaration,\n",
    "    GenerativeModel,\n",
    "    Part,\n",
    "    Tool,\n",
    ")\n",
    "load_dotenv()"
   ]
  },
  {
   "cell_type": "code",
   "execution_count": 2,
   "metadata": {},
   "outputs": [
    {
     "data": {
      "text/plain": [
       "True"
      ]
     },
     "execution_count": 2,
     "metadata": {},
     "output_type": "execute_result"
    }
   ],
   "source": [
    "# import libs and env\n",
    "import json\n",
    "from openai import OpenAI\n",
    "from tenacity import retry, wait_random_exponential, stop_after_attempt\n",
    "import dotenv\n",
    "import pandas as pd\n",
    "from dotenv import load_dotenv\n",
    "from IPython.display import display, Markdown\n",
    "from termcolor import colored  \n",
    "import wget\n",
    "import os\n",
    "import chromadb\n",
    "from ast import literal_eval\n",
    "#GPT_MODEL = \"gpt-4-1106-preview\"\n",
    "GPT_MODEL = \"gpt-3.5-turbo-0125\"\n",
    "EMBEDDING_MODEL = \"text-embedding-3-small\"\n",
    "load_dotenv()  "
   ]
  },
  {
   "cell_type": "code",
   "execution_count": 3,
   "metadata": {
    "id": "lslYAvw37JGQ",
    "tags": []
   },
   "outputs": [],
   "source": [
    "import requests\n",
    "from vertexai.generative_models import (\n",
    "    Content,\n",
    "    FunctionDeclaration,\n",
    "    GenerativeModel,\n",
    "    Part,\n",
    "    Tool,\n",
    ")"
   ]
  },
  {
   "cell_type": "code",
   "execution_count": 4,
   "metadata": {
    "id": "2998506fe6d1",
    "tags": []
   },
   "outputs": [],
   "source": [
    "model = GenerativeModel(\"gemini-1.0-pro\")"
   ]
  },
  {
   "cell_type": "code",
   "execution_count": 5,
   "metadata": {},
   "outputs": [],
   "source": [
    "# Placeholder function for generating embeddings using OpenAI\n",
    "# def generate_embedding(text) -> list:\n",
    "#     \"\"\"\n",
    "#     Generates an embedding vector for the given text using OpenAI's embedding API.\n",
    "#     Replace this with an actual call to openai.Embedding.create() in your code.\n",
    "#     \"\"\"\n",
    "#     \"\"\"Text embedding with a Large Language Model.\"\"\"\n",
    "#     model = TextEmbeddingModel.from_pretrained(\"textembedding-gecko@003\")\n",
    "#     embeddings = model.get_embeddings([text])\n",
    "#     for embedding in embeddings:\n",
    "#         vector = embedding.values\n",
    "    \n",
    "#     return vector\n",
    "from openai import OpenAI\n",
    "client = OpenAI()\n",
    "\n",
    "# Placeholder function for generating embeddings using OpenAI\n",
    "def generate_embedding(text):\n",
    "    \"\"\"\n",
    "    Generates an embedding vector for the given text using OpenAI's embedding API.\n",
    "    Replace this with an actual call to openai.Embedding.create() in your code.\n",
    "    \"\"\"\n",
    "    response = client.embeddings.create(\n",
    "        input=text,\n",
    "        model=EMBEDDING_MODEL\n",
    "    )\n",
    "\n",
    "    return response.data[0].embedding  # Assuming embedding size is 768\n",
    "\n",
    "def process_md_files_to_df(folder_path):\n",
    "    \"\"\"\n",
    "    Processes all markdown files in the given folder and compiles them into a DataFrame.\n",
    "    \n",
    "    :param folder_path: Path to the folder containing MD files.\n",
    "    :return: A DataFrame with the columns id, file_path, title, text, title_vector, content_vector, vector_id.\n",
    "    \"\"\"\n",
    "    data = []\n",
    "    \n",
    "    for idx, filename in enumerate(os.listdir(folder_path)):\n",
    "        if filename.endswith(\".md\"):\n",
    "            file_path = os.path.join(folder_path, filename)\n",
    "            with open(file_path, 'r', encoding='utf-8') as file:\n",
    "                content = file.read()\n",
    "                title = os.path.splitext(filename)[0]\n",
    "                title_vector = generate_embedding(title)\n",
    "                content_vector = generate_embedding(content)\n",
    "                \n",
    "                # Append to data list\n",
    "                data.append({\n",
    "                    \"id\": idx + 1,\n",
    "                    \"file_path\": file_path,\n",
    "                    \"title\": title,\n",
    "                    \"text\": content,\n",
    "                    \"title_vector\": title_vector,\n",
    "                    \"content_vector\": content_vector,\n",
    "                    \"vector_id\": idx  # Assuming vector_id starts from 0\n",
    "                })\n",
    "    \n",
    "    # Convert list to DataFrame\n",
    "    df = pd.DataFrame(data)\n",
    "    return df\n",
    "\n",
    "# Example usage\n",
    "folder_path = \"docs\""
   ]
  },
  {
   "cell_type": "code",
   "execution_count": 6,
   "metadata": {},
   "outputs": [],
   "source": [
    "article_df = process_md_files_to_df(folder_path)"
   ]
  },
  {
   "cell_type": "code",
   "execution_count": 7,
   "metadata": {},
   "outputs": [],
   "source": [
    "article_df.to_csv('docs/oa-docs.csv', index=False)"
   ]
  },
  {
   "cell_type": "code",
   "execution_count": 8,
   "metadata": {},
   "outputs": [
    {
     "data": {
      "text/html": [
       "<div>\n",
       "<style scoped>\n",
       "    .dataframe tbody tr th:only-of-type {\n",
       "        vertical-align: middle;\n",
       "    }\n",
       "\n",
       "    .dataframe tbody tr th {\n",
       "        vertical-align: top;\n",
       "    }\n",
       "\n",
       "    .dataframe thead th {\n",
       "        text-align: right;\n",
       "    }\n",
       "</style>\n",
       "<table border=\"1\" class=\"dataframe\">\n",
       "  <thead>\n",
       "    <tr style=\"text-align: right;\">\n",
       "      <th></th>\n",
       "      <th>id</th>\n",
       "      <th>file_path</th>\n",
       "      <th>title</th>\n",
       "      <th>text</th>\n",
       "      <th>title_vector</th>\n",
       "      <th>content_vector</th>\n",
       "      <th>vector_id</th>\n",
       "    </tr>\n",
       "  </thead>\n",
       "  <tbody>\n",
       "    <tr>\n",
       "      <th>0</th>\n",
       "      <td>1</td>\n",
       "      <td>docs/serbia.md</td>\n",
       "      <td>serbia</td>\n",
       "      <td># Serbia\\n\\n![Serbia Landscape](URL_to_an_imag...</td>\n",
       "      <td>[-0.012984967790544033, -0.03350071609020233, ...</td>\n",
       "      <td>[-0.028921548277139664, -0.01833852380514145, ...</td>\n",
       "      <td>0</td>\n",
       "    </tr>\n",
       "    <tr>\n",
       "      <th>1</th>\n",
       "      <td>3</td>\n",
       "      <td>docs/corporate-actions.md</td>\n",
       "      <td>corporate-actions</td>\n",
       "      <td># Standard Operating Procedure (SOP) for Corpo...</td>\n",
       "      <td>[0.04675452411174774, 0.02118518389761448, 0.0...</td>\n",
       "      <td>[0.006607677787542343, 0.06554270535707474, 0....</td>\n",
       "      <td>2</td>\n",
       "    </tr>\n",
       "    <tr>\n",
       "      <th>2</th>\n",
       "      <td>4</td>\n",
       "      <td>docs/trade-post-settlement.md</td>\n",
       "      <td>trade-post-settlement</td>\n",
       "      <td># Standard Operating Procedure (SOP) for Trade...</td>\n",
       "      <td>[0.010448666289448738, -0.025498153641819954, ...</td>\n",
       "      <td>[-0.004678166471421719, 0.03849324211478233, 0...</td>\n",
       "      <td>3</td>\n",
       "    </tr>\n",
       "    <tr>\n",
       "      <th>3</th>\n",
       "      <td>5</td>\n",
       "      <td>docs/polanski.md</td>\n",
       "      <td>polanski</td>\n",
       "      <td># Polanski: Serbia's Rising Tennis Star\\n\\n![P...</td>\n",
       "      <td>[-0.0472092479467392, 0.06010713428258896, -0....</td>\n",
       "      <td>[-0.04051847383379936, 0.030533114448189735, -...</td>\n",
       "      <td>4</td>\n",
       "    </tr>\n",
       "    <tr>\n",
       "      <th>4</th>\n",
       "      <td>6</td>\n",
       "      <td>docs/trade-pre-matching.md</td>\n",
       "      <td>trade-pre-matching</td>\n",
       "      <td># Standard Operating Procedure for Trade Pre-M...</td>\n",
       "      <td>[-0.014318353496491909, 0.014613003470003605, ...</td>\n",
       "      <td>[-0.030199365690350533, 0.03870762139558792, 0...</td>\n",
       "      <td>5</td>\n",
       "    </tr>\n",
       "  </tbody>\n",
       "</table>\n",
       "</div>"
      ],
      "text/plain": [
       "   id                      file_path                  title  \\\n",
       "0   1                 docs/serbia.md                 serbia   \n",
       "1   3      docs/corporate-actions.md      corporate-actions   \n",
       "2   4  docs/trade-post-settlement.md  trade-post-settlement   \n",
       "3   5               docs/polanski.md               polanski   \n",
       "4   6     docs/trade-pre-matching.md     trade-pre-matching   \n",
       "\n",
       "                                                text  \\\n",
       "0  # Serbia\\n\\n![Serbia Landscape](URL_to_an_imag...   \n",
       "1  # Standard Operating Procedure (SOP) for Corpo...   \n",
       "2  # Standard Operating Procedure (SOP) for Trade...   \n",
       "3  # Polanski: Serbia's Rising Tennis Star\\n\\n![P...   \n",
       "4  # Standard Operating Procedure for Trade Pre-M...   \n",
       "\n",
       "                                        title_vector  \\\n",
       "0  [-0.012984967790544033, -0.03350071609020233, ...   \n",
       "1  [0.04675452411174774, 0.02118518389761448, 0.0...   \n",
       "2  [0.010448666289448738, -0.025498153641819954, ...   \n",
       "3  [-0.0472092479467392, 0.06010713428258896, -0....   \n",
       "4  [-0.014318353496491909, 0.014613003470003605, ...   \n",
       "\n",
       "                                      content_vector  vector_id  \n",
       "0  [-0.028921548277139664, -0.01833852380514145, ...          0  \n",
       "1  [0.006607677787542343, 0.06554270535707474, 0....          2  \n",
       "2  [-0.004678166471421719, 0.03849324211478233, 0...          3  \n",
       "3  [-0.04051847383379936, 0.030533114448189735, -...          4  \n",
       "4  [-0.030199365690350533, 0.03870762139558792, 0...          5  "
      ]
     },
     "execution_count": 8,
     "metadata": {},
     "output_type": "execute_result"
    }
   ],
   "source": [
    "article_df = pd.read_csv('docs/oa-docs.csv')\n",
    "article_df.head()"
   ]
  },
  {
   "cell_type": "code",
   "execution_count": 9,
   "metadata": {},
   "outputs": [],
   "source": [
    "# Read vectors from strings back into a list\n",
    "article_df['title_vector'] = article_df.title_vector.apply(literal_eval)\n",
    "article_df['content_vector'] = article_df.content_vector.apply(literal_eval)\n",
    "\n",
    "# Set vector_id to be a string\n",
    "article_df['vector_id'] = article_df['vector_id'].apply(str)"
   ]
  },
  {
   "cell_type": "code",
   "execution_count": 10,
   "metadata": {},
   "outputs": [],
   "source": [
    "chroma_client = chromadb.EphemeralClient() # Equivalent to chromadb.Client(), ephemeral.\n",
    "# Uncomment for persistent client\n",
    "# chroma_client = chromadb.PersistentClient()"
   ]
  },
  {
   "cell_type": "code",
   "execution_count": 11,
   "metadata": {},
   "outputs": [],
   "source": [
    "import chromadb.utils.embedding_functions as embedding_functions\n",
    "#vertex_key = os.getenv(\"VERTEX_API_KEY\")\n",
    "#embedding_function = embedding_functions.GoogleVertexEmbeddingFunction(api_key=vertex_key)\n",
    "\n",
    "from chromadb.utils.embedding_functions import OpenAIEmbeddingFunction\n",
    "\n",
    "embedding_function = OpenAIEmbeddingFunction(api_key=os.getenv(\"OPENAI_API_KEY\"), model_name=EMBEDDING_MODEL)\n",
    "\n",
    "sop_content_collection = chroma_client.create_collection(name='content-v2', embedding_function=embedding_function)\n",
    "sop_title_collection = chroma_client.create_collection(name='title-v2', embedding_function=embedding_function)\n",
    "\n",
    "# Add the content vectors\n",
    "sop_content_collection.add(\n",
    "    ids=article_df.vector_id.tolist(),\n",
    "    embeddings=article_df.content_vector.tolist(),\n",
    ")\n",
    "\n",
    "# Add the title vectors\n",
    "sop_title_collection.add(\n",
    "    ids=article_df.vector_id.tolist(),\n",
    "    embeddings=article_df.title_vector.tolist(),\n",
    ")"
   ]
  },
  {
   "cell_type": "code",
   "execution_count": 12,
   "metadata": {},
   "outputs": [],
   "source": [
    "def search_df(collection, query, max_results, dataframe):\n",
    "    results = collection.query(query_texts=query, n_results=max_results, include=['distances']) \n",
    "    df = pd.DataFrame({\n",
    "                'id':results['ids'][0], \n",
    "                'score':results['distances'][0],\n",
    "                'title': dataframe[dataframe.vector_id.isin(results['ids'][0])]['title'],\n",
    "                'content': dataframe[dataframe.vector_id.isin(results['ids'][0])]['text'],\n",
    "                })\n",
    "    \n",
    "    return df"
   ]
  },
  {
   "cell_type": "code",
   "execution_count": 13,
   "metadata": {},
   "outputs": [],
   "source": [
    "# Function to create the desired string from a DataFrame\n",
    "def search_knowledge(query, articles, n, clearing_house=\"na\", market=\"na\"):\n",
    "    df = search_df(\n",
    "    collection=sop_title_collection,\n",
    "    query=query,\n",
    "    max_results=n,\n",
    "    dataframe=articles\n",
    "    )\n",
    "    # Initialize an empty string\n",
    "    result_string = \"\"\n",
    "    \n",
    "    # Iterate over each row in the DataFrame\n",
    "    for index, row in df.iterrows():\n",
    "        # Append the title and content to the result string, followed by a newline character\n",
    "        result_string += f\"{row['title']}\\n{row['content']}\\n\"\n",
    "    \n",
    "    return result_string.strip()  # Use strip() to remove the last newline character"
   ]
  },
  {
   "cell_type": "code",
   "execution_count": 14,
   "metadata": {
    "tags": []
   },
   "outputs": [],
   "source": [
    "get_current_weather_func = FunctionDeclaration(\n",
    "    name=\"get_current_weather\",\n",
    "    description=\"Get the current weather in a given location\",\n",
    "    parameters={\n",
    "        \"type\": \"object\",\n",
    "        \"properties\": {\"location\": {\"type\": \"string\", \"description\": \"Location\"}},\n",
    "    },\n",
    ")"
   ]
  },
  {
   "cell_type": "code",
   "execution_count": 15,
   "metadata": {},
   "outputs": [],
   "source": [
    "search_knowledge_func = FunctionDeclaration(\n",
    "    name=\"search_knowledge\",\n",
    "    description=\"to answer any question related to euroclear, tennis players, and countries\",\n",
    "    parameters={\n",
    "    \"type\": \"object\",\n",
    "    \"properties\": {\n",
    "        \"query\": {\n",
    "            \"type\": \"string\",\n",
    "            \"description\": \"your search query to retrieve knowledge from a vector database\"\n",
    "        },\n",
    "    },\n",
    "         \"required\": [\n",
    "            \"query\"\n",
    "      ]\n",
    "  },\n",
    ")"
   ]
  },
  {
   "cell_type": "code",
   "execution_count": 16,
   "metadata": {},
   "outputs": [],
   "source": [
    "knowledge_tool = Tool(\n",
    "    function_declarations=[search_knowledge_func],\n",
    ")"
   ]
  },
  {
   "cell_type": "code",
   "execution_count": 17,
   "metadata": {
    "tags": []
   },
   "outputs": [],
   "source": [
    "weather_tool = Tool(\n",
    "    function_declarations=[get_current_weather_func],\n",
    ")"
   ]
  },
  {
   "cell_type": "markdown",
   "metadata": {},
   "source": [
    "You can then instruct the model to generate content, include the `tool` that you just created, to generate a response:"
   ]
  },
  {
   "cell_type": "code",
   "execution_count": 18,
   "metadata": {},
   "outputs": [],
   "source": [
    "GENERAL_ASSISTANT = \"\"\"\n",
    "You are Sage, a friendly and helpful agent who helps users using the given functions.\n",
    "Here are the rules you have to strictly adhere to:\n",
    "1. Don't make assumptions about what values to plug into functions. \n",
    "2. You will use the search tool to find relavent knowlege articles to create the answer.\n",
    "3. Being smart in your research. If the search does not come back with the answer, rephrase the question and try again.\n",
    "4. Review the result of the search and use it to guide your next search if needed.\n",
    "5. If the question is complex, break down to smaller search steps and find the answer in multiple steps.\n",
    "6. Answer ONLY with the facts from the search tool. If there isn't enough information, say you don't know. Do not generate answers that don't use the sources below. If asking a clarifying question to the user would help, ask the question.\n",
    "\"\"\""
   ]
  },
  {
   "cell_type": "code",
   "execution_count": 19,
   "metadata": {},
   "outputs": [],
   "source": [
    "model = GenerativeModel(\n",
    "    \"gemini-1.0-pro\", generation_config={\"temperature\": 0}, tools=[knowledge_tool]\n",
    ")\n",
    "chat = model.start_chat(response_validation=False)"
   ]
  },
  {
   "cell_type": "code",
   "execution_count": 20,
   "metadata": {},
   "outputs": [
    {
     "ename": "IndexError",
     "evalue": "list index out of range",
     "output_type": "error",
     "traceback": [
      "\u001b[0;31m---------------------------------------------------------------------------\u001b[0m",
      "\u001b[0;31mIndexError\u001b[0m                                Traceback (most recent call last)",
      "Cell \u001b[0;32mIn[20], line 4\u001b[0m\n\u001b[1;32m      1\u001b[0m prompt \u001b[38;5;241m=\u001b[39m \u001b[38;5;124mf\u001b[39m\u001b[38;5;124m\"\u001b[39m\u001b[38;5;132;01m{\u001b[39;00mGENERAL_ASSISTANT\u001b[38;5;132;01m}\u001b[39;00m\u001b[38;5;124m\"\u001b[39m\n\u001b[1;32m      3\u001b[0m response \u001b[38;5;241m=\u001b[39m chat\u001b[38;5;241m.\u001b[39msend_message(prompt)\n\u001b[0;32m----> 4\u001b[0m \u001b[43mresponse\u001b[49m\u001b[38;5;241;43m.\u001b[39;49m\u001b[43mcandidates\u001b[49m\u001b[43m[\u001b[49m\u001b[38;5;241;43m0\u001b[39;49m\u001b[43m]\u001b[49m\u001b[38;5;241;43m.\u001b[39;49m\u001b[43mcontent\u001b[49m\u001b[38;5;241;43m.\u001b[39;49m\u001b[43mparts\u001b[49m\u001b[43m[\u001b[49m\u001b[38;5;241;43m0\u001b[39;49m\u001b[43m]\u001b[49m\n",
      "\u001b[0;31mIndexError\u001b[0m: list index out of range"
     ]
    }
   ],
   "source": [
    "prompt = f\"{GENERAL_ASSISTANT}\"\n",
    "\n",
    "response = chat.send_message(prompt)\n",
    "response.candidates[0].content.parts[0]"
   ]
  },
  {
   "cell_type": "code",
   "execution_count": 21,
   "metadata": {},
   "outputs": [
    {
     "data": {
      "text/plain": [
       "function_call {\n",
       "  name: \"search_knowledge\"\n",
       "  args {\n",
       "    fields {\n",
       "      key: \"query\"\n",
       "      value {\n",
       "        string_value: \"Where was tennis player Polanski born?\"\n",
       "      }\n",
       "    }\n",
       "  }\n",
       "}"
      ]
     },
     "execution_count": 21,
     "metadata": {},
     "output_type": "execute_result"
    }
   ],
   "source": [
    "prompt = \"what's the tourism website of the place where tennis player Polanski was born?\"\n",
    "\n",
    "response = chat.send_message(prompt)\n",
    "response.candidates[0].content.parts[0]"
   ]
  },
  {
   "cell_type": "code",
   "execution_count": 22,
   "metadata": {},
   "outputs": [],
   "source": [
    "arguments = response.candidates[0].content.parts[0].function_call.args"
   ]
  },
  {
   "cell_type": "code",
   "execution_count": 23,
   "metadata": {},
   "outputs": [
    {
     "data": {
      "text/plain": [
       "'Where was tennis player Polanski born?'"
      ]
     },
     "execution_count": 23,
     "metadata": {},
     "output_type": "execute_result"
    }
   ],
   "source": [
    "arguments['query']"
   ]
  },
  {
   "cell_type": "code",
   "execution_count": 24,
   "metadata": {},
   "outputs": [],
   "source": [
    "search_result = search_knowledge(arguments['query'], article_df, n=3)"
   ]
  },
  {
   "cell_type": "code",
   "execution_count": 134,
   "metadata": {},
   "outputs": [],
   "source": [
    "api_response = {\"source\": search_result}"
   ]
  },
  {
   "cell_type": "code",
   "execution_count": 135,
   "metadata": {},
   "outputs": [
    {
     "data": {
      "text/plain": [
       "{'source': 'external-settlement\\n## External settlement\\n19/09/2022\\n\\n### What is an external settlement transaction?\\n\\nA transaction between:  \\n* a Euroclear client\\n* a counterparty holding an account in a domestic market settlement system (directly, or via their domestic agent)\\n\\nAn external transaction settles:  \\n* via a link we set up with the domestic market\\n* in the domestic market CSD when we process the settlement confirmation from the local market\\n\\n### Four types of links with domestic markets\\n\\n* **direct link** – we have a direct account in the domestic market CSD through which transactions with local counterparties may settle\\n\\n* **indirect link** - we have an account with a local sub-custodian that has an account with the CSD through which transactions with local counterparties may settle.\\n\\n* **direct link managed by a domestic market agent** - we have an account directly with the domestic market CSD, but this account is operated on our behalf by a domestic market agent.\\n\\n* **indirect link managed by domestic market agent -** we have an account with a a Depositary Agent\\n\\t+ Depositary Agent has an account with a local sub-custodian\\n\\t+ The local sub-custodian that has an account with the CSD through which transactions with local counterparties may settle\\n\\n### What is the lifecycle of an external transaction?\\n\\n[See the transaction lifecycle.](https://my.euroclear.com/eb/en/reference/services/settlement/what-is-the-lifecycle-of-transactions.html)\\n\\n### When will an external settlement transaction be processed?\\n\\n For information on managing the processing sequence of your instructions, consult the Managing the processing sequence section.\\n\\n\\n### What is the input deadline of an external settlement transaction?\\n\\nSee our [settlement timing card](https://my.euroclear.com/content/dam/euroclear/Operational/EB/Guides/OP2200-Settlement-timing.pdf) (pdf-738KB)\\n\\n### Are there any specific instruction requirements?\\n\\n* Yes, there are specific instruction requirements that can vary per market.\\n* The Euroclear Bank code in your instruction should be linked to either the local account or the SWIFT BIC of the delivering/receiving agent. These equivalent codes for local accounts or SWIFT BICs can be found via the [Counterparties search](https://my.euroclear.com/apps/en/counterparties-search.html).\\n\\nFor specific instruction requirements per market, see [instruction formats](https://my.euroclear.com/apps/en/settlement-format-finder.html).  \\n\\n### What is stock exchange settlement?\\n\\n The process where transactions resulting from stock exchange trades may settle on a book-entry basis in Euroclear Bank.\\n\\n### The Euronext service\\n\\n* allows you to settle your Euronext Paris, Amsterdam and Brussels transactions on a book-entry basis in Euroclear Bank from a single Securities Clearance Account\\n* this enables you to benefit from the settlement of Euronext stock exchange transactions for the cost of an internal transaction\\n* the service complements the domestic settlement service offered by Euroclear France, Euroclear Nederland and Euroclear Belgium (the Belgian domestic CSD).LCH.Clearnet SA, as Central Counterparty (CCP) for Euronext, nets all transactions.\\n\\nFor full operational details, consult the [Euronext Stock Exchange Settlement – Service provision](https://my.euroclear.com/content/dam/euroclear/Operational/EB/Guides/OP1250-Euronext-Stock-Exchange-Settlement-Service-provision.pdf) and the [Euronext Stock Exchange Settlement – Reporting examples](https://my.euroclear.com/content/dam/euroclear/Operational/EB/Guides/OP1251-Euronext-Stock-Exchange-Settlement-Reporting-examples.pdf).  \\n\\n\\n### Automatic Trading Systems feeds\\n\\nWe receive Automatic Trading System feeds from EuroMTS, Eurex Bonds, TLX, Brokertec and others, allowing you to settle the corresponding transactions with us on an internal, book-entry basis. \\nbridge-settlement\\n## Bridge settlement\\n\\n### What is a Bridge settlement transaction?\\n\\nA transaction between a Euroclear Bank client and a Clearstream Banking Luxembourg (CBL) client. It settles on a book-entry basis, either:  \\n* against payment in any [currency accepted for Bridge settlement](https://my.euroclear.com/content/dam/euroclear/Operational/EB/Guides/OP0011-Eligible-currencies.pdf) provided that the security has the multi-currency treatment flag open\\n* free of payment\\n\\n### Why is this called ‘Bridge’ settlement?\\nThe word ‘Bridge’ is iconic in that the first ‘electronic Bridge’, in 1977, took over the role of a real bridge: Pont Adolphe in Luxembourg separated the area in the city where the depositaries of Euroclear and Clearstream (called ‘Cedel’ at the time) were located. \\n\\nBefore the electronic Bridge existed, armoured trucks crossed Pont Adolphe back and forth every day between the depositaries, to physically deliver securities to the other ICSD ‘over the Bridge’.   \\n\\nThe Bridge was unique at the time in it offering ‘interoperability’ between the two ICSDs. The Bridge today is still unique due to its high efficiency.  \\n\\n### What is the lifecycle of a Bridge settlement transaction?\\n\\n[See the transaction lifecycle](https://my.euroclear.com/eb/en/reference/services/settlement/what-is-the-lifecycle-of-transactions.html)  \\n\\n### When will I receive the final feedback on my instruction?\\n\\n| Process | Applicable Currency | Time (Brussels time) | Instruction type |\\n|---------|---------------------|----------------------|------------------|\\n| **Overnight Batch Process** | | 23:30 on SD (EFB1) - Receipts<br>01:00 on SD (CFB1) - Deliveries | |\\n| **Real-Time Process** | | | |\\n| Mandatory against payment 1 | All except ARS, CAD, EUR, GBP, MXN, PEN, USD | 14:15 on SD - Receipts<br>14:25 on SD - Deliveries | |\\n| Mandatory against payment 2 | EUR, GBP | 15:55 on SD - Receipts<br>15:45 on SD - Deliveries | |\\n| Mandatory against payment 3 | ARS, CAD, MXN, PEN, USD | 17:35 on SD - Receipts<br>17:25 on SD - Deliveries | |\\n| Optional against payment | All currencies | 18:55 on SD - Receipts<br>19:05 on SD - Deliveries | |\\n\\n\\nSD = Settlement date\\n\\n**Note** - the timing in the table above is indicative only based on the ultimate timing by which a transmission should be sent to or received from CBL\\n\\n### What is near real-time matching on the Bridge?\\n\\nMatching (ACE) files will be exchanged periodically every two minutes.   \\n\\n### What is the Bridge settlement transaction positioning window for value S\\n\\nThe Bridge settlement processing window for value S comprises:\\n\\n* the batch process\\n* the automatic real-time process for against payment instructions that runs until:\\n\\t+ 14.10 on S for deliveries and receipts in all currencies, except: ARS, CAD, EUR, GBP, MXN, PEN and USD\\n\\t+ 15:30 on S for deliveries in EUR and GBP\\n\\t+ 15.50 on S for receipts in EUR and GBP\\n\\t+ 17:10 on S for deliveries in MXN, PEN, USD, CAD and ARS\\n\\t+ 17.30 on S for receipts in MXN, PEN, USD, CAD and ARS\\n\\t+ 18:50 on S for the optional real-time process for all against payment instructions\\n\\n**Note:** The timing on the figure above is indicative only and shows the ultimate timing by which a transmission should be sent to or received from CBL.\\n\\nThe optional real-time process allows you to settle Bridge transactions that remain unsettled after the automatic real-time processing.  \\n\\n| Timing | Detail |\\n|--------|--------|\\n| Matching (via ACE files) | Every two minutes |\\n| Euroclear Proposed Delivery Transmission (EPD) | At hh:15 |\\n| Euroclear Feedback Transmission (EFB) | At hh:35<br>At hh:55 |\\n| Clearstream Proposed Delivery Transmission (CPD) | At hh:05 |\\n| Clearstream Feedback Transmission (CFB) | At hh:25<br>At hh:45 |\\n\\ninternal-settlement\\n## What is an internal settlement transaction?\\n\\nA transaction between two Euroclear Bank clients. The transaction settles in Euroclear Bank and can be either:   \\n* against payment in any of the payment currencies eligible in Euroclear Bank provided that the security has the multi-currency treatment flag open\\n* free of payment\\n\\n### What is the lifecycle of a internal settlement transaction?\\n\\n[See the Transaction lifecycle.](https://my.euroclear.com/eb/en/reference/services/settlement/what-is-the-lifecycle-of-transactions.html)  \\n  \\n### The Euroclear Bank processing window for internal instructions:\\n\\n* starts, on average, at 22:00 on S-1 with the batch process\\n* ends at 19:30 on S with the close of the optional real-time process'}"
      ]
     },
     "execution_count": 135,
     "metadata": {},
     "output_type": "execute_result"
    }
   ],
   "source": [
    "api_response"
   ]
  },
  {
   "cell_type": "code",
   "execution_count": 136,
   "metadata": {},
   "outputs": [
    {
     "data": {
      "text/plain": [
       "text: \" The types of payments for bridge settlement are:\\n\\n* **Against payment:** The settlement of a transaction is conditional upon the receipt of payment.\\n* **Free of payment:** The settlement of a transaction is not conditional upon the receipt of payment.\""
      ]
     },
     "execution_count": 136,
     "metadata": {},
     "output_type": "execute_result"
    }
   ],
   "source": [
    "response = chat.send_message(\n",
    "    Part.from_function_response(\n",
    "        name=\"search_knowledge\",\n",
    "        response={\n",
    "            \"content\": api_response,\n",
    "        },\n",
    "    ),\n",
    ")\n",
    "response.candidates[0].content.parts[0]"
   ]
  },
  {
   "cell_type": "code",
   "execution_count": 138,
   "metadata": {},
   "outputs": [
    {
     "data": {
      "text/markdown": [
       " The types of payments for bridge settlement are:\n",
       "\n",
       "* **Against payment:** The settlement of a transaction is conditional upon the receipt of payment.\n",
       "* **Free of payment:** The settlement of a transaction is not conditional upon the receipt of payment."
      ],
      "text/plain": [
       "<IPython.core.display.Markdown object>"
      ]
     },
     "execution_count": 138,
     "metadata": {},
     "output_type": "execute_result"
    }
   ],
   "source": [
    "Markdown(response.candidates[0].content.parts[0].text)"
   ]
  },
  {
   "cell_type": "code",
   "execution_count": null,
   "metadata": {},
   "outputs": [],
   "source": []
  }
 ],
 "metadata": {
  "colab": {
   "provenance": [],
   "toc_visible": true
  },
  "environment": {
   "kernel": "conda-root-py",
   "name": "workbench-notebooks.m115",
   "type": "gcloud",
   "uri": "gcr.io/deeplearning-platform-release/workbench-notebooks:m115"
  },
  "kernelspec": {
   "display_name": "agentnv",
   "language": "python",
   "name": "python3"
  },
  "language_info": {
   "codemirror_mode": {
    "name": "ipython",
    "version": 3
   },
   "file_extension": ".py",
   "mimetype": "text/x-python",
   "name": "python",
   "nbconvert_exporter": "python",
   "pygments_lexer": "ipython3",
   "version": "3.11.6"
  }
 },
 "nbformat": 4,
 "nbformat_minor": 4
}
