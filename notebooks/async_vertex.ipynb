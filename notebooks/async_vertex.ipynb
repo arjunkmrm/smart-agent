{
 "cells": [
  {
   "cell_type": "code",
   "execution_count": 3,
   "metadata": {},
   "outputs": [],
   "source": [
    "import asyncio\n",
    "from vertexai.generative_models import GenerativeModel, GenerationConfig"
   ]
  },
  {
   "cell_type": "code",
   "execution_count": 4,
   "metadata": {},
   "outputs": [],
   "source": [
    "generation_config = GenerationConfig(\n",
    "    temperature=0.5,\n",
    "    max_output_tokens=50,\n",
    "    # Other configurations as needed\n",
    ")"
   ]
  },
  {
   "cell_type": "code",
   "execution_count": null,
   "metadata": {},
   "outputs": [],
   "source": [
    "model = GenerativeModel(\"gemini-pro\")"
   ]
  },
  {
   "cell_type": "code",
   "execution_count": null,
   "metadata": {},
   "outputs": [],
   "source": [
    "async def generate_single_async_content(model, content, generation_config=None):\n",
    "    response = await model.generate_content_async(\n",
    "        contents=content,\n",
    "        generation_config=generation_config\n",
    "        # Add other parameters as needed\n",
    "    )\n",
    "    return response"
   ]
  },
  {
   "cell_type": "code",
   "execution_count": null,
   "metadata": {},
   "outputs": [],
   "source": [
    "async def generate_multiple_async_contents(model, contents_list, generation_config=None):\n",
    "    # Create a list of coroutine objects for each content input\n",
    "    tasks = [\n",
    "        generate_single_async_content(model, content, generation_config)\n",
    "        for content in contents_list\n",
    "    ]\n",
    "    \n",
    "    # asyncio.gather runs all tasks concurrently and waits for all to complete\n",
    "    responses = await asyncio.gather(*tasks)\n",
    "    return responses\n"
   ]
  },
  {
   "cell_type": "code",
   "execution_count": null,
   "metadata": {},
   "outputs": [],
   "source": [
    "# Assuming you've already instantiated your model and set up any necessary configs\n",
    "contents_list = [\n",
    "    \"Why is the sky blue?\",\n",
    "    \"What causes rainbows?\",\n",
    "]\n",
    "\n",
    "# Directly await the function to handle multiple inputs\n",
    "responses = await generate_multiple_async_contents(model, contents_list)\n",
    "\n",
    "# Process or display the responses as needed\n",
    "for response in responses:\n",
    "    print(response.text)\n"
   ]
  }
 ],
 "metadata": {
  "kernelspec": {
   "display_name": "llmnv",
   "language": "python",
   "name": "python3"
  },
  "language_info": {
   "codemirror_mode": {
    "name": "ipython",
    "version": 3
   },
   "file_extension": ".py",
   "mimetype": "text/x-python",
   "name": "python",
   "nbconvert_exporter": "python",
   "pygments_lexer": "ipython3",
   "version": "3.11.6"
  }
 },
 "nbformat": 4,
 "nbformat_minor": 2
}
