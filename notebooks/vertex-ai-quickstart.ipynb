{
 "cells": [
  {
   "cell_type": "code",
   "execution_count": 1,
   "metadata": {},
   "outputs": [],
   "source": [
    "from IPython.display import display, Markdown"
   ]
  },
  {
   "cell_type": "code",
   "execution_count": 2,
   "metadata": {},
   "outputs": [],
   "source": [
    "from vertexai.generative_models import GenerationConfig, GenerativeModel, Image, Part"
   ]
  },
  {
   "cell_type": "code",
   "execution_count": 3,
   "metadata": {},
   "outputs": [],
   "source": [
    "model = GenerativeModel(\"gemini-pro\")"
   ]
  },
  {
   "cell_type": "code",
   "execution_count": 4,
   "metadata": {},
   "outputs": [
    {
     "name": "stdout",
     "output_type": "stream",
     "text": [
      "The sky appears blue because of a phenomenon called Rayleigh scattering. This scattering occurs when sunlight interacts with molecules in the atmosphere, primarily nitrogen and oxygen. The shorter wavelength blue light is scattered more effectively than the longer wavelength red light, which is why we perceive the sky as blue.\n",
      "\n",
      "Here's a more detailed explanation:\n",
      "\n",
      "1. **Sunlight is composed of all colors:** When we see sunlight, we are actually seeing a combination of all the colors of the visible spectrum. These colors range from red (the longest wavelength) to violet (the shortest wavelength).\n",
      "\n",
      "2. **Blue light is scattered more:** When sunlight enters the atmosphere, it interacts with molecules of nitrogen and oxygen. These molecules are much smaller than the wavelength of light. When light interacts with an object that is smaller than its wavelength, it undergoes a process called Rayleigh scattering. In Rayleigh scattering, the shorter wavelength blue light is scattered more effectively than the longer wavelength red light.\n",
      "\n",
      "3. **Scattering in all directions:** The scattered blue light is scattered in all directions. This means that no matter where you look in the sky, you will see blue light.\n",
      "\n",
      "4. **Red light travels in a straight line:** The longer wavelength red light is not scattered as much as blue light. This means that red light travels in a more direct line from the sun to our eyes.\n",
      "\n",
      "5. **The sky appears blue:** Because blue light is scattered more effectively than red light, we perceive the sky as being blue. The blue light that we see is coming from all directions in the sky, which is why the sky appears to be a uniform blue color.\n",
      "\n",
      "It's important to note that the sky can also appear other colors, such as red or orange, at sunrise and sunset. This is because the sunlight has to travel through more of the atmosphere to reach our eyes at these times, and the shorter wavelength blue light is scattered more effectively."
     ]
    }
   ],
   "source": [
    "responses = model.generate_content(\"Why is the sky blue?\", stream=True)\n",
    "\n",
    "for response in responses:\n",
    "    print(response.text, end=\"\")"
   ]
  },
  {
   "cell_type": "code",
   "execution_count": null,
   "metadata": {},
   "outputs": [],
   "source": []
  }
 ],
 "metadata": {
  "kernelspec": {
   "display_name": "agentnv",
   "language": "python",
   "name": "python3"
  },
  "language_info": {
   "codemirror_mode": {
    "name": "ipython",
    "version": 3
   },
   "file_extension": ".py",
   "mimetype": "text/x-python",
   "name": "python",
   "nbconvert_exporter": "python",
   "pygments_lexer": "ipython3",
   "version": "3.11.6"
  }
 },
 "nbformat": 4,
 "nbformat_minor": 2
}
