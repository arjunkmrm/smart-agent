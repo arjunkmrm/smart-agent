{
 "cells": [
  {
   "cell_type": "code",
   "execution_count": 1,
   "metadata": {},
   "outputs": [
    {
     "data": {
      "text/plain": [
       "True"
      ]
     },
     "execution_count": 1,
     "metadata": {},
     "output_type": "execute_result"
    }
   ],
   "source": [
    "# import libs and env\n",
    "import json\n",
    "from openai import OpenAI\n",
    "from tenacity import retry, wait_random_exponential, stop_after_attempt\n",
    "import dotenv\n",
    "import pandas as pd\n",
    "from dotenv import load_dotenv\n",
    "from IPython.display import display, Markdown\n",
    "from termcolor import colored  \n",
    "import wget\n",
    "import os\n",
    "import chromadb\n",
    "from ast import literal_eval\n",
    "#GPT_MODEL = \"gpt-4-1106-preview\"\n",
    "GPT_MODEL = \"gpt-3.5-turbo-0125\"\n",
    "EMBEDDING_MODEL = \"text-embedding-ada-002\"\n",
    "load_dotenv()  "
   ]
  },
  {
   "cell_type": "markdown",
   "metadata": {},
   "source": [
    "### **utilities**"
   ]
  },
  {
   "cell_type": "code",
   "execution_count": 3,
   "metadata": {},
   "outputs": [],
   "source": [
    "def pretty_print_conversation(messages):\n",
    "    role_to_color = {\n",
    "        \"system\": \"red\",\n",
    "        \"user\": \"green\",\n",
    "        \"assistant\": \"blue\",\n",
    "        \"function\": \"magenta\",\n",
    "    }\n",
    "    \n",
    "    for message in messages:\n",
    "        if message[\"role\"] == \"system\":\n",
    "            print(colored(f\"system: {message['content']}\\n\", role_to_color[message[\"role\"]]))\n",
    "        elif message[\"role\"] == \"user\":\n",
    "            print(colored(f\"user: {message['content']}\\n\", role_to_color[message[\"role\"]]))\n",
    "        elif message[\"role\"] == \"assistant\" and message.get(\"function_call\"):\n",
    "            print(colored(f\"assistant: {message['function_call']}\\n\", role_to_color[message[\"role\"]]))\n",
    "        elif message[\"role\"] == \"assistant\" and not message.get(\"function_call\"):\n",
    "            print(colored(f\"assistant: {message['content']}\\n\", role_to_color[message[\"role\"]]))\n",
    "        elif message[\"role\"] == \"function\":\n",
    "            print(colored(f\"function ({message['name']}): {message['content']}\\n\", role_to_color[message[\"role\"]]))\n"
   ]
  },
  {
   "cell_type": "markdown",
   "metadata": {},
   "source": [
    "#### **chroma**"
   ]
  },
  {
   "cell_type": "code",
   "execution_count": 4,
   "metadata": {},
   "outputs": [
    {
     "data": {
      "text/plain": [
       "list"
      ]
     },
     "execution_count": 4,
     "metadata": {},
     "output_type": "execute_result"
    }
   ],
   "source": [
    "from openai import OpenAI\n",
    "client = OpenAI()\n",
    "\n",
    "response = client.embeddings.create(\n",
    "    input=\"Your text string goes here\",\n",
    "    model=\"text-embedding-3-small\"\n",
    ")\n",
    "\n",
    "type(response.data[0].embedding)"
   ]
  },
  {
   "cell_type": "code",
   "execution_count": 6,
   "metadata": {},
   "outputs": [],
   "source": [
    "# Placeholder function for generating embeddings using OpenAI\n",
    "def generate_embedding(text):\n",
    "    \"\"\"\n",
    "    Generates an embedding vector for the given text using OpenAI's embedding API.\n",
    "    Replace this with an actual call to openai.Embedding.create() in your code.\n",
    "    \"\"\"\n",
    "    response = client.embeddings.create(\n",
    "        input=text,\n",
    "        model=EMBEDDING_MODEL\n",
    "    )\n",
    "\n",
    "    return response.data[0].embedding  # Assuming embedding size is 768\n",
    "\n",
    "def process_md_files_to_df(folder_path):\n",
    "    \"\"\"\n",
    "    Processes all markdown files in the given folder and compiles them into a DataFrame.\n",
    "    \n",
    "    :param folder_path: Path to the folder containing MD files.\n",
    "    :return: A DataFrame with the columns id, file_path, title, text, title_vector, content_vector, vector_id.\n",
    "    \"\"\"\n",
    "    data = []\n",
    "    \n",
    "    for idx, filename in enumerate(os.listdir(folder_path)):\n",
    "        if filename.endswith(\".md\"):\n",
    "            file_path = os.path.join(folder_path, filename)\n",
    "            with open(file_path, 'r', encoding='utf-8') as file:\n",
    "                content = file.read()\n",
    "                title = os.path.splitext(filename)[0]\n",
    "                title_vector = generate_embedding(title)\n",
    "                content_vector = generate_embedding(content)\n",
    "                \n",
    "                # Append to data list\n",
    "                data.append({\n",
    "                    \"id\": idx + 1,\n",
    "                    \"file_path\": file_path,\n",
    "                    \"title\": title,\n",
    "                    \"text\": content,\n",
    "                    \"title_vector\": title_vector,\n",
    "                    \"content_vector\": content_vector,\n",
    "                    \"vector_id\": idx  # Assuming vector_id starts from 0\n",
    "                })\n",
    "    \n",
    "    # Convert list to DataFrame\n",
    "    df = pd.DataFrame(data)\n",
    "    return df\n",
    "\n",
    "# Example usage\n",
    "folder_path = \"sop-docs/euroclear\""
   ]
  },
  {
   "cell_type": "code",
   "execution_count": 7,
   "metadata": {},
   "outputs": [],
   "source": [
    "article_df = process_md_files_to_df(folder_path)"
   ]
  },
  {
   "cell_type": "code",
   "execution_count": 8,
   "metadata": {},
   "outputs": [],
   "source": [
    "article_df.to_csv('sop-docs/oa-sop-docs.csv', index=False)"
   ]
  },
  {
   "cell_type": "code",
   "execution_count": 9,
   "metadata": {},
   "outputs": [
    {
     "data": {
      "text/html": [
       "<div>\n",
       "<style scoped>\n",
       "    .dataframe tbody tr th:only-of-type {\n",
       "        vertical-align: middle;\n",
       "    }\n",
       "\n",
       "    .dataframe tbody tr th {\n",
       "        vertical-align: top;\n",
       "    }\n",
       "\n",
       "    .dataframe thead th {\n",
       "        text-align: right;\n",
       "    }\n",
       "</style>\n",
       "<table border=\"1\" class=\"dataframe\">\n",
       "  <thead>\n",
       "    <tr style=\"text-align: right;\">\n",
       "      <th></th>\n",
       "      <th>id</th>\n",
       "      <th>file_path</th>\n",
       "      <th>title</th>\n",
       "      <th>text</th>\n",
       "      <th>title_vector</th>\n",
       "      <th>content_vector</th>\n",
       "      <th>vector_id</th>\n",
       "    </tr>\n",
       "  </thead>\n",
       "  <tbody>\n",
       "    <tr>\n",
       "      <th>0</th>\n",
       "      <td>1</td>\n",
       "      <td>sop-docs/euroclear/external-settlement.md</td>\n",
       "      <td>external-settlement</td>\n",
       "      <td>## External settlement\\n19/09/2022\\n\\n### What...</td>\n",
       "      <td>[-0.0016799656441435218, 0.0029202322475612164...</td>\n",
       "      <td>[-0.001593194087035954, 0.02452816814184189, -...</td>\n",
       "      <td>0</td>\n",
       "    </tr>\n",
       "    <tr>\n",
       "      <th>1</th>\n",
       "      <td>2</td>\n",
       "      <td>sop-docs/euroclear/transaction-lifecycle.md</td>\n",
       "      <td>transaction-lifecycle</td>\n",
       "      <td>## What is the lifecycle of transactions?\\n\\nT...</td>\n",
       "      <td>[0.004535823594778776, -0.004832559730857611, ...</td>\n",
       "      <td>[-0.018600638955831528, 0.0048954663798213005,...</td>\n",
       "      <td>1</td>\n",
       "    </tr>\n",
       "    <tr>\n",
       "      <th>2</th>\n",
       "      <td>3</td>\n",
       "      <td>sop-docs/euroclear/bridge-settlement.md</td>\n",
       "      <td>bridge-settlement</td>\n",
       "      <td>## Bridge settlement\\n\\n### What is a Bridge s...</td>\n",
       "      <td>[-0.004899136256426573, 0.007877608761191368, ...</td>\n",
       "      <td>[-0.012175136245787144, 0.008481089025735855, ...</td>\n",
       "      <td>2</td>\n",
       "    </tr>\n",
       "    <tr>\n",
       "      <th>3</th>\n",
       "      <td>4</td>\n",
       "      <td>sop-docs/euroclear/status-reporting.md</td>\n",
       "      <td>status-reporting</td>\n",
       "      <td>## Unmatched, unsettled, alleged reporting\\n21...</td>\n",
       "      <td>[-0.024325305595993996, -0.008656425401568413,...</td>\n",
       "      <td>[-0.023916499689221382, 0.01272289827466011, 0...</td>\n",
       "      <td>3</td>\n",
       "    </tr>\n",
       "    <tr>\n",
       "      <th>4</th>\n",
       "      <td>5</td>\n",
       "      <td>sop-docs/euroclear/internal-settlement.md</td>\n",
       "      <td>internal-settlement</td>\n",
       "      <td>## What is an internal settlement transaction?...</td>\n",
       "      <td>[-0.010655367746949196, 0.009483421221375465, ...</td>\n",
       "      <td>[0.008218420669436455, 0.0009066986385732889, ...</td>\n",
       "      <td>4</td>\n",
       "    </tr>\n",
       "  </tbody>\n",
       "</table>\n",
       "</div>"
      ],
      "text/plain": [
       "   id                                    file_path                  title  \\\n",
       "0   1    sop-docs/euroclear/external-settlement.md    external-settlement   \n",
       "1   2  sop-docs/euroclear/transaction-lifecycle.md  transaction-lifecycle   \n",
       "2   3      sop-docs/euroclear/bridge-settlement.md      bridge-settlement   \n",
       "3   4       sop-docs/euroclear/status-reporting.md       status-reporting   \n",
       "4   5    sop-docs/euroclear/internal-settlement.md    internal-settlement   \n",
       "\n",
       "                                                text  \\\n",
       "0  ## External settlement\\n19/09/2022\\n\\n### What...   \n",
       "1  ## What is the lifecycle of transactions?\\n\\nT...   \n",
       "2  ## Bridge settlement\\n\\n### What is a Bridge s...   \n",
       "3  ## Unmatched, unsettled, alleged reporting\\n21...   \n",
       "4  ## What is an internal settlement transaction?...   \n",
       "\n",
       "                                        title_vector  \\\n",
       "0  [-0.0016799656441435218, 0.0029202322475612164...   \n",
       "1  [0.004535823594778776, -0.004832559730857611, ...   \n",
       "2  [-0.004899136256426573, 0.007877608761191368, ...   \n",
       "3  [-0.024325305595993996, -0.008656425401568413,...   \n",
       "4  [-0.010655367746949196, 0.009483421221375465, ...   \n",
       "\n",
       "                                      content_vector  vector_id  \n",
       "0  [-0.001593194087035954, 0.02452816814184189, -...          0  \n",
       "1  [-0.018600638955831528, 0.0048954663798213005,...          1  \n",
       "2  [-0.012175136245787144, 0.008481089025735855, ...          2  \n",
       "3  [-0.023916499689221382, 0.01272289827466011, 0...          3  \n",
       "4  [0.008218420669436455, 0.0009066986385732889, ...          4  "
      ]
     },
     "execution_count": 9,
     "metadata": {},
     "output_type": "execute_result"
    }
   ],
   "source": [
    "article_df.head()"
   ]
  },
  {
   "cell_type": "code",
   "execution_count": 10,
   "metadata": {},
   "outputs": [
    {
     "data": {
      "text/plain": [
       "list"
      ]
     },
     "execution_count": 10,
     "metadata": {},
     "output_type": "execute_result"
    }
   ],
   "source": [
    "type(article_df.title_vector[0])"
   ]
  },
  {
   "cell_type": "code",
   "execution_count": 11,
   "metadata": {},
   "outputs": [],
   "source": [
    "# Set vector_id to be a string\n",
    "article_df['vector_id'] = article_df['vector_id'].apply(str)"
   ]
  },
  {
   "cell_type": "code",
   "execution_count": 12,
   "metadata": {},
   "outputs": [],
   "source": [
    "chroma_client = chromadb.EphemeralClient() # Equivalent to chromadb.Client(), ephemeral.\n",
    "# Uncomment for persistent client\n",
    "# chroma_client = chromadb.PersistentClient()"
   ]
  },
  {
   "cell_type": "code",
   "execution_count": 13,
   "metadata": {},
   "outputs": [],
   "source": [
    "from chromadb.utils.embedding_functions import OpenAIEmbeddingFunction\n",
    "\n",
    "embedding_function = OpenAIEmbeddingFunction(api_key=os.getenv(\"OPENAI_API_KEY\"), model_name=EMBEDDING_MODEL)\n",
    "\n",
    "sop_content_collection = chroma_client.create_collection(name='sop_contents_v4', embedding_function=embedding_function)\n",
    "sop_title_collection = chroma_client.create_collection(name='sop_titles_v4', embedding_function=embedding_function)\n",
    "\n",
    "# Add the content vectors\n",
    "sop_content_collection.add(\n",
    "    ids=article_df.vector_id.tolist(),\n",
    "    embeddings=article_df.content_vector.tolist(),\n",
    ")\n",
    "\n",
    "# Add the title vectors\n",
    "sop_title_collection.add(\n",
    "    ids=article_df.vector_id.tolist(),\n",
    "    embeddings=article_df.title_vector.tolist(),\n",
    ")"
   ]
  },
  {
   "cell_type": "code",
   "execution_count": 15,
   "metadata": {},
   "outputs": [],
   "source": [
    "def search_df(collection, query, max_results, dataframe):\n",
    "    results = collection.query(query_texts=query, n_results=max_results, include=['distances']) \n",
    "    df = pd.DataFrame({\n",
    "                'id':results['ids'][0], \n",
    "                'score':results['distances'][0],\n",
    "                'title': dataframe[dataframe.vector_id.isin(results['ids'][0])]['title'],\n",
    "                'content': dataframe[dataframe.vector_id.isin(results['ids'][0])]['text'],\n",
    "                })\n",
    "    \n",
    "    return df"
   ]
  },
  {
   "cell_type": "code",
   "execution_count": 16,
   "metadata": {},
   "outputs": [
    {
     "data": {
      "text/html": [
       "<div>\n",
       "<style scoped>\n",
       "    .dataframe tbody tr th:only-of-type {\n",
       "        vertical-align: middle;\n",
       "    }\n",
       "\n",
       "    .dataframe tbody tr th {\n",
       "        vertical-align: top;\n",
       "    }\n",
       "\n",
       "    .dataframe thead th {\n",
       "        text-align: right;\n",
       "    }\n",
       "</style>\n",
       "<table border=\"1\" class=\"dataframe\">\n",
       "  <thead>\n",
       "    <tr style=\"text-align: right;\">\n",
       "      <th></th>\n",
       "      <th>id</th>\n",
       "      <th>score</th>\n",
       "      <th>title</th>\n",
       "      <th>content</th>\n",
       "    </tr>\n",
       "  </thead>\n",
       "  <tbody>\n",
       "    <tr>\n",
       "      <th>0</th>\n",
       "      <td>0</td>\n",
       "      <td>0.13953</td>\n",
       "      <td>serbia</td>\n",
       "      <td># Serbia\\n\\n![Serbia Landscape](URL_to_an_imag...</td>\n",
       "    </tr>\n",
       "  </tbody>\n",
       "</table>\n",
       "</div>"
      ],
      "text/plain": [
       "  id    score   title                                            content\n",
       "0  0  0.13953  serbia  # Serbia\\n\\n![Serbia Landscape](URL_to_an_imag..."
      ]
     },
     "execution_count": 16,
     "metadata": {},
     "output_type": "execute_result"
    }
   ],
   "source": [
    "title_query_result = search_df(\n",
    "    collection=sop_title_collection,\n",
    "    query=\"serbia tourism\",\n",
    "    max_results=1,\n",
    "    dataframe=article_df\n",
    ")\n",
    "title_query_result.head()"
   ]
  },
  {
   "cell_type": "code",
   "execution_count": 17,
   "metadata": {},
   "outputs": [
    {
     "data": {
      "text/html": [
       "<div>\n",
       "<style scoped>\n",
       "    .dataframe tbody tr th:only-of-type {\n",
       "        vertical-align: middle;\n",
       "    }\n",
       "\n",
       "    .dataframe tbody tr th {\n",
       "        vertical-align: top;\n",
       "    }\n",
       "\n",
       "    .dataframe thead th {\n",
       "        text-align: right;\n",
       "    }\n",
       "</style>\n",
       "<table border=\"1\" class=\"dataframe\">\n",
       "  <thead>\n",
       "    <tr style=\"text-align: right;\">\n",
       "      <th></th>\n",
       "      <th>id</th>\n",
       "      <th>score</th>\n",
       "      <th>title</th>\n",
       "      <th>content</th>\n",
       "    </tr>\n",
       "  </thead>\n",
       "  <tbody>\n",
       "    <tr>\n",
       "      <th>0</th>\n",
       "      <td>0</td>\n",
       "      <td>0.251935</td>\n",
       "      <td>serbia</td>\n",
       "      <td># Serbia\\n\\n![Serbia Landscape](URL_to_an_imag...</td>\n",
       "    </tr>\n",
       "  </tbody>\n",
       "</table>\n",
       "</div>"
      ],
      "text/plain": [
       "  id     score   title                                            content\n",
       "0  0  0.251935  serbia  # Serbia\\n\\n![Serbia Landscape](URL_to_an_imag..."
      ]
     },
     "execution_count": 17,
     "metadata": {},
     "output_type": "execute_result"
    }
   ],
   "source": [
    "content_query_result = search_df(\n",
    "    collection=sop_content_collection,\n",
    "    query=\"serbia tourism\",\n",
    "    max_results=1,\n",
    "    dataframe=article_df\n",
    ")\n",
    "content_query_result.head()"
   ]
  },
  {
   "cell_type": "code",
   "execution_count": null,
   "metadata": {},
   "outputs": [],
   "source": [
    "# Function to create the desired string from a DataFrame\n",
    "def search_knowledge(query, articles, n, clearing_house=\"na\", market=\"na\"):\n",
    "    df = search_df(\n",
    "    collection=sop_title_collection,\n",
    "    query=query,\n",
    "    max_results=n,\n",
    "    dataframe=articles\n",
    "    )\n",
    "    # Initialize an empty string\n",
    "    result_string = \"\"\n",
    "    \n",
    "    # Iterate over each row in the DataFrame\n",
    "    for index, row in df.iterrows():\n",
    "        # Append the title and content to the result string, followed by a newline character\n",
    "        result_string += f\"{row['title']}\\n{row['content']}\\n\"\n",
    "    \n",
    "    return result_string.strip()  # Use strip() to remove the last newline character"
   ]
  },
  {
   "cell_type": "markdown",
   "metadata": {},
   "source": [
    "#### **chat completion wrapper**"
   ]
  },
  {
   "cell_type": "code",
   "execution_count": null,
   "metadata": {},
   "outputs": [],
   "source": [
    "# wrapper around chat api call\n",
    "@retry(wait=wait_random_exponential(multiplier=1, max=40), stop=stop_after_attempt(3))\n",
    "def chat_completion_request(messages, tools=None, tool_choice=None, model=GPT_MODEL):\n",
    "    client = OpenAI()\n",
    "    try:\n",
    "        response = client.chat.completions.create(\n",
    "            model=model,\n",
    "            messages=messages,\n",
    "            tools=tools,\n",
    "            tool_choice=tool_choice,\n",
    "        )\n",
    "        return response\n",
    "    except Exception as e:\n",
    "        print(\"Unable to generate ChatCompletion response\")\n",
    "        print(f\"Exception: {e}\")\n",
    "        return e\n",
    "    \n",
    "@retry(wait=wait_random_exponential(multiplier=1, max=40), stop=stop_after_attempt(3))\n",
    "def chat_completion_request_json(messages, model=GPT_MODEL):\n",
    "    try:\n",
    "        response = client.chat.completions.create(\n",
    "            model=model,\n",
    "            response_format={ \"type\": \"json_object\" },\n",
    "            messages=messages\n",
    "        )\n",
    "        return response\n",
    "    except Exception as e:\n",
    "        print(\"Unable to generate ChatCompletion response\")\n",
    "        print(f\"Exception: {e}\")\n",
    "        return e"
   ]
  },
  {
   "cell_type": "markdown",
   "metadata": {},
   "source": [
    "#### **agent functions**"
   ]
  },
  {
   "cell_type": "code",
   "execution_count": 82,
   "metadata": {},
   "outputs": [],
   "source": [
    "# tools\n",
    "agent_functions = [\n",
    "{\n",
    "    \"type\": \"function\",\n",
    "    \"function\": {\n",
    "        \"name\": \"search_knowledge\",\n",
    "        \"description\": \"search different knowledge bases based on user query about securities operations, also has info about Polanski and serbia\",\n",
    "        \"parameters\": {\n",
    "            \"type\": \"object\",\n",
    "            \"properties\": {\n",
    "                \"query\": {\n",
    "                    \"type\": \"string\",\n",
    "                    \"description\": \"The search query\",\n",
    "                },\n",
    "                \"clearing_house\": {\n",
    "                    \"type\": \"string\",\n",
    "                    \"enum\": [\"euroclear\", \"cmu\", \"austraclear\", \"dtc\", \"na\"],\n",
    "                    \"description\": \"The clearing house that the user is interested in\",\n",
    "                },\n",
    "                    \"market\": {\n",
    "                    \"type\": \"string\",\n",
    "                    \"enum\": [\"united_states\", \"australia\", \"china\", \"na\"],\n",
    "                    \"description\": \"The market that the user is interested in\",\n",
    "                },\n",
    "            },\n",
    "            \"required\": [\"query\", \"clearing_house\", \"market\"],\n",
    "        },\n",
    "    }\n",
    "},\n",
    "{\n",
    "    \"type\": \"function\",\n",
    "    \"function\": {\n",
    "        \"name\": \"get_current_weather\",\n",
    "        \"description\": \"Get the current weather\",\n",
    "        \"parameters\": {\n",
    "            \"type\": \"object\",\n",
    "            \"properties\": {\n",
    "                \"location\": {\n",
    "                    \"type\": \"string\",\n",
    "                    \"description\": \"The city and state, e.g. San Francisco, CA\",\n",
    "                },\n",
    "                \"format\": {\n",
    "                    \"type\": \"string\",\n",
    "                    \"enum\": [\"celsius\", \"fahrenheit\"],\n",
    "                    \"description\": \"The temperature unit to use. Infer this from the users location.\",\n",
    "                },\n",
    "            },\n",
    "            \"required\": [\"location\", \"format\"],\n",
    "        },\n",
    "    }\n",
    "},\n",
    "]\n"
   ]
  },
  {
   "cell_type": "markdown",
   "metadata": {},
   "source": [
    "#### **agent personas**"
   ]
  },
  {
   "cell_type": "code",
   "execution_count": 83,
   "metadata": {},
   "outputs": [],
   "source": [
    "# agent persona\n",
    "GENERAL_ASSISTANT = \"\"\"\n",
    "You are Sage, a friendly and helpful agent who helps users using the given functions.\n",
    "Here are the rules you have to strictly adhere to:\n",
    "1. Don't make assumptions about what values to plug into functions. \n",
    "2. You will use the search tool to find relavent knowlege articles to create the answer.\n",
    "3. Being smart in your research. If the search does not come back with the answer, rephrase the question and try again.\n",
    "4. Review the result of the search and use it to guide your next search if needed.\n",
    "5. If the question is complex, break down to smaller search steps and find the answer in multiple steps.\n",
    "6. Answer ONLY with the facts from the search tool. If there isn't enough information, say you don't know. Do not generate answers that don't use the sources below. If asking a clarifying question to the user would help, ask the question.\n",
    "\"\"\"\n",
    "\n",
    "RESEARCHER = \"\"\"\n",
    "You are ResearchGPT, a helpful assistant who uses a given list of sources to take notes in order to answer a question. Your notes\n",
    "would be passed to a question generator which would generate additional questions to answer the question in full if there is not\n",
    "enough information in the notepad. \n",
    "Hints:\n",
    "1. Do not comment, just diligently take notes\n",
    "2. Extract a list of all the facts directly related to the question concisely onto your notepad.\n",
    "\"\"\"\n",
    "\n",
    "QUESTION_GENERATOR = \"\"\"\n",
    "You are QuestionsGPT, a helpful assistant who looks at the current state of acquired knowledge\n",
    "and intelligently generates an additional question and query to search a knowledge base.\n",
    "Here are some tips;\n",
    "1. Create questions and queries which can concisely and dircetly answer the user's primary query\n",
    "Provide your answer in JSON structure like this {\"enough_info\": \"is there enough info in the notepad to anser this question. allowed values: yes/no\", \"additional_query\": \"your search query to get additional info to answer user question if not enough info else 'na'\"}\n",
    "\"\"\"\n",
    "\n",
    "FINAL_ANSWERER = \"\"\"\n",
    "Using the given information in a notepad from a researcher, concisely answer the user question.\n",
    "\"\"\""
   ]
  },
  {
   "cell_type": "markdown",
   "metadata": {},
   "source": [
    "#### **agent functions**"
   ]
  },
  {
   "cell_type": "code",
   "execution_count": 84,
   "metadata": {},
   "outputs": [],
   "source": [
    "def generate_qns(query, notepad):\n",
    "    notepad_example = \"\"\"\n",
    "    - Polanski was born in Serbia and started playing tennis at 4 years old.\n",
    "    - Turned professional at age 16 after an impressive junior career.\n",
    "    - His playing style includes offensive baseline play and quick net skills, known for a signature serve.\n",
    "    - Has reached semifinals of several ATP 250 events and has victories over higher-ranked opponents.\n",
    "    - Polanski runs tennis clinics for underprivileged children in his home country.\n",
    "    - Experts predict he will continue to rise in the ranks of professional tennis.\n",
    "    \"\"\"\n",
    "    example_query1 = \"where was Polanski born?\"\n",
    "    example_query2 = \"what is the capital of the place where Polanski was born?\"\n",
    "    messages = []\n",
    "    messages.append({\"role\": \"system\", \"content\": f\"{QUESTION_GENERATOR}\"})\n",
    "    messages.append({\"role\": \"user\", \"content\": f\"Is this enough to answer the user's initial question: {example_query1}\\n Here's the notepad: {notepad_example}\\n What additional question has to generated?\"})\n",
    "    messages.append({\"role\": \"assistant\", \"content\": '{\"enough_info\": \"yes\", \"additional_query\": \"na\"}'})\n",
    "    messages.append({\"role\": \"user\", \"content\": f\"Is this enough to answer the user's initial question: {example_query2}\\n Here's the notepad: {notepad_example}\\n What additional question has to generated?\"})\n",
    "    messages.append({\"role\": \"assistant\", \"content\": '{\"enough_info\": \"no\", \"additional_query\": \"current capital of Serbia\"}'})\n",
    "    messages.append({\"role\": \"user\", \"content\": f\"Is this enough to answer the user's initial question: {query}\\n Here's the notepad we have: {notepad}\\n What additional question has to generated?\"}) \n",
    "    chat_response = chat_completion_request_json(\n",
    "        messages\n",
    "    )\n",
    "    # generate json response\n",
    "    assistant_message = chat_response.choices[0].message.content\n",
    "    return assistant_message"
   ]
  },
  {
   "cell_type": "code",
   "execution_count": 85,
   "metadata": {},
   "outputs": [],
   "source": [
    "def final_answer(query, notepad):\n",
    "    example_query1 = \"where was Polanski born?\"\n",
    "    example_query2 = \"what is the capital of the place where Polanski was born?\"\n",
    "    messages = []\n",
    "    messages.append({\"role\": \"system\", \"content\": f\"{FINAL_ANSWERER}\"})\n",
    "    messages.append({\"role\": \"user\", \"content\": f\"query: {query}\\n Here's the notepad we have for your reference: {notepad}\"}) \n",
    "    chat_response = chat_completion_request(\n",
    "        messages\n",
    "    )\n",
    "    # generate json response\n",
    "    assistant_message = chat_response.choices[0].message.content\n",
    "    return assistant_message"
   ]
  },
  {
   "cell_type": "code",
   "execution_count": 86,
   "metadata": {},
   "outputs": [],
   "source": [
    "def get_current_weather(location, format):\n",
    "    out = f\"weather at {location} is 22 degrees C!\"\n",
    "    return out\n",
    "\n",
    "\n",
    "def call_researcher(query, articles, n):\n",
    "    notepad = \"\"\n",
    "    user_query = query\n",
    "    enough_info = 'no'\n",
    "    i = 0\n",
    "\n",
    "    while enough_info.lower() == 'no':\n",
    "        messages=[]\n",
    "        search_results = search_knowledge(query, articles, n) \n",
    "        #print(search_results)\n",
    "        if not messages:\n",
    "            messages.append({\"role\": \"system\", \"content\": f\"{RESEARCHER}\"})\n",
    "\n",
    "        messages.append({\"role\": \"user\", \"content\": f\":these are your sources {search_results} \\nExtract only the relevant information to this query: {query}\\n into your notepad.\"})\n",
    "        \n",
    "        chat_response = chat_completion_request(\n",
    "            messages\n",
    "        )\n",
    "        assistant_message = chat_response.choices[0].message.content\n",
    "        notepad += assistant_message\n",
    "        print(f\"\\n{notepad}\")\n",
    "        generated_qns = generate_qns(user_query, notepad)\n",
    "        additional_qns = json.loads(generated_qns)\n",
    "        enough_info = additional_qns['enough_info']\n",
    "        query = additional_qns['additional_query']\n",
    "        print(enough_info)\n",
    "        print(query)\n",
    "        i += 1\n",
    "        if i == 3:\n",
    "            break\n",
    "\n",
    "    answer = final_answer(user_query, notepad)\n",
    "    return answer\n",
    "\n",
    "AVAILABLE_FUNCTIONS = {\n",
    "            \"search_knowledge\": search_knowledge,\n",
    "            \"get_current_weather\": get_current_weather\n",
    "        } \n",
    "\n",
    "function_list=AVAILABLE_FUNCTIONS"
   ]
  },
  {
   "cell_type": "code",
   "execution_count": 87,
   "metadata": {},
   "outputs": [],
   "source": [
    "#answer = call_researcher(\"what is the capital of the country which seperated from the place where Polanski was born?\", article_df, n=1)"
   ]
  },
  {
   "cell_type": "code",
   "execution_count": 88,
   "metadata": {},
   "outputs": [
    {
     "ename": "NameError",
     "evalue": "name 'answer' is not defined",
     "output_type": "error",
     "traceback": [
      "\u001b[0;31m---------------------------------------------------------------------------\u001b[0m",
      "\u001b[0;31mNameError\u001b[0m                                 Traceback (most recent call last)",
      "Cell \u001b[0;32mIn[88], line 1\u001b[0m\n\u001b[0;32m----> 1\u001b[0m Markdown(\u001b[43manswer\u001b[49m)\n",
      "\u001b[0;31mNameError\u001b[0m: name 'answer' is not defined"
     ]
    }
   ],
   "source": [
    "Markdown(answer)"
   ]
  },
  {
   "cell_type": "code",
   "execution_count": 89,
   "metadata": {},
   "outputs": [],
   "source": [
    "class Conversation:\n",
    "    def __init__(self):\n",
    "        self.conversation_history = []\n",
    "\n",
    "    def add_message(self, role, content):\n",
    "        message = {\"role\": role, \"content\": content}\n",
    "        self.conversation_history.append(message)\n",
    "\n",
    "    def display_conversation(self, detailed=False):\n",
    "        role_to_color = {\n",
    "            \"system\": \"red\",\n",
    "            \"user\": \"green\",\n",
    "            \"assistant\": \"blue\",\n",
    "            \"function\": \"magenta\",\n",
    "        }\n",
    "        for message in self.conversation_history:\n",
    "            print(\n",
    "                colored(\n",
    "                    f\"{message['role']}: {message['content']}\\n\\n\",\n",
    "                    role_to_color[message[\"role\"]],\n",
    "                )\n",
    "            )"
   ]
  },
  {
   "cell_type": "markdown",
   "metadata": {},
   "source": [
    "#### **function calling**"
   ]
  },
  {
   "cell_type": "code",
   "execution_count": 90,
   "metadata": {},
   "outputs": [],
   "source": [
    "def chat_completion_with_function_execution(messages, functions=[None]):\n",
    "    \"\"\"This function makes a ChatCompletion API call with the option of adding functions\"\"\"\n",
    "    while True:\n",
    "        response = chat_completion_request(messages, functions)\n",
    "        full_message = response.choices[0]\n",
    "        print(full_message)\n",
    "    \n",
    "        if full_message.finish_reason == \"tool_calls\":\n",
    "            print(f\"Function generation requested, calling function\")\n",
    "            call_agent_function(messages, full_message)\n",
    "        else:\n",
    "            print(f\"Function not required, responding to user\")\n",
    "            return response\n",
    "            \n",
    "\n",
    "\n",
    "def call_agent_function(messages, full_message):\n",
    "    \"\"\"Function calling function which executes function calls when the model believes it is necessary.\n",
    "    Currently extended by adding clauses to this if statement.\"\"\"\n",
    "\n",
    "    if full_message.message.tool_calls[0].function.name == \"search_knowledge\":\n",
    "        try:\n",
    "            parsed_output = json.loads(\n",
    "                full_message.message.tool_calls[0].function.arguments\n",
    "            )\n",
    "            print(\"Getting search results\")\n",
    "            results = search_knowledge(parsed_output[\"query\"], articles=article_df, n=1)\n",
    "        except Exception as e:\n",
    "            print(parsed_output)\n",
    "            print(f\"Function execution failed\")\n",
    "            print(f\"Error message: {e}\")\n",
    "        messages.append(\n",
    "            {\n",
    "                \"role\": \"function\",\n",
    "                \"name\": full_message.message.tool_calls[0].function.name,\n",
    "                \"content\": str(results),\n",
    "            }\n",
    "        )\n",
    "        try:\n",
    "            print(\"Got search results, summarizing content\")\n",
    "            response = chat_completion_request(messages)\n",
    "            return response\n",
    "        except Exception as e:\n",
    "            print(type(e))\n",
    "            raise Exception(\"Function chat request failed\")\n",
    "    elif (\n",
    "        full_message.message.tool_calls[0].function.name == \"get_current_weather\"\n",
    "    ):\n",
    "        parsed_output = json.loads(\n",
    "            full_message.message.tool_calls[0].function.arguments\n",
    "        )\n",
    "        print(\"Finding and reading paper\")\n",
    "        summary = get_current_weather(parsed_output[\"location\"], parsed_output[\"format\"])\n",
    "        return summary\n",
    "\n",
    "    else:\n",
    "        raise Exception(\"Function does not exist and cannot be called\")\n"
   ]
  },
  {
   "cell_type": "markdown",
   "metadata": {},
   "source": [
    "### **demo**"
   ]
  },
  {
   "cell_type": "code",
   "execution_count": 94,
   "metadata": {},
   "outputs": [],
   "source": [
    "# system message\n",
    "paper_conversation = Conversation()\n",
    "paper_conversation.add_message(\"system\", GENERAL_ASSISTANT)"
   ]
  },
  {
   "cell_type": "code",
   "execution_count": 95,
   "metadata": {},
   "outputs": [
    {
     "data": {
      "text/plain": [
       "[{'role': 'system',\n",
       "  'content': \"\\nYou are Sage, a friendly and helpful agent who helps users using the given functions.\\nHere are the rules you have to strictly adhere to:\\n1. Don't make assumptions about what values to plug into functions. \\n2. You will use the search tool to find relavent knowlege articles to create the answer.\\n3. Being smart in your research. If the search does not come back with the answer, rephrase the question and try again.\\n4. Review the result of the search and use it to guide your next search if needed.\\n5. If the question is complex, break down to smaller search steps and find the answer in multiple steps.\\n6. Answer ONLY with the facts from the search tool. If there isn't enough information, say you don't know. Do not generate answers that don't use the sources below. If asking a clarifying question to the user would help, ask the question.\\n\"}]"
      ]
     },
     "execution_count": 95,
     "metadata": {},
     "output_type": "execute_result"
    }
   ],
   "source": [
    "paper_conversation.conversation_history"
   ]
  },
  {
   "cell_type": "code",
   "execution_count": 96,
   "metadata": {},
   "outputs": [
    {
     "name": "stdout",
     "output_type": "stream",
     "text": [
      "Choice(finish_reason='tool_calls', index=0, logprobs=None, message=ChatCompletionMessage(content=None, role='assistant', function_call=None, tool_calls=[ChatCompletionMessageToolCall(id='call_1VFWIuQYw3ZNmDwZqG4LnNtf', function=Function(arguments='{\"query\":\"tennis player Polanski birthplace\",\"clearing_house\":\"na\",\"market\":\"na\"}', name='search_knowledge'), type='function')]))\n",
      "Function generation requested, calling function\n",
      "Getting search results\n",
      "Got search results, summarizing content\n",
      "Choice(finish_reason='tool_calls', index=0, logprobs=None, message=ChatCompletionMessage(content=None, role='assistant', function_call=None, tool_calls=[ChatCompletionMessageToolCall(id='call_prBVkLrpcR8LGJVyvH05irCQ', function=Function(arguments='{\"query\":\"Serbia tourism website\",\"clearing_house\":\"na\",\"market\":\"na\"}', name='search_knowledge'), type='function')]))\n",
      "Function generation requested, calling function\n",
      "Getting search results\n",
      "Got search results, summarizing content\n",
      "Choice(finish_reason='stop', index=0, logprobs=None, message=ChatCompletionMessage(content=\"The tourism website of Serbia, the place where tennis player Polanski was born, is [Serbia's official tourism website](http://www.serbia.travel).\", role='assistant', function_call=None, tool_calls=None))\n",
      "Function not required, responding to user\n"
     ]
    },
    {
     "data": {
      "text/markdown": [
       "The tourism website of Serbia, the place where tennis player Polanski was born, is [Serbia's official tourism website](http://www.serbia.travel)."
      ],
      "text/plain": [
       "<IPython.core.display.Markdown object>"
      ]
     },
     "metadata": {},
     "output_type": "display_data"
    }
   ],
   "source": [
    "# user message\n",
    "paper_conversation.add_message(\"user\", \"what is a tourism webiste of the place tennis player polanski was born?\")\n",
    "chat_response = chat_completion_with_function_execution(\n",
    "    paper_conversation.conversation_history, functions=agent_functions\n",
    ")\n",
    "assistant_message = chat_response.choices[0].message.content\n",
    "#assistant_message = chat_response\n",
    "paper_conversation.add_message(\"assistant\", assistant_message)\n",
    "display(Markdown(assistant_message))"
   ]
  },
  {
   "cell_type": "code",
   "execution_count": 97,
   "metadata": {},
   "outputs": [
    {
     "name": "stdout",
     "output_type": "stream",
     "text": [
      "\u001b[31msystem: \n",
      "You are Sage, a friendly and helpful agent who helps users using the given functions.\n",
      "Here are the rules you have to strictly adhere to:\n",
      "1. Don't make assumptions about what values to plug into functions. \n",
      "2. You will use the search tool to find relavent knowlege articles to create the answer.\n",
      "3. Being smart in your research. If the search does not come back with the answer, rephrase the question and try again.\n",
      "4. Review the result of the search and use it to guide your next search if needed.\n",
      "5. If the question is complex, break down to smaller search steps and find the answer in multiple steps.\n",
      "6. Answer ONLY with the facts from the search tool. If there isn't enough information, say you don't know. Do not generate answers that don't use the sources below. If asking a clarifying question to the user would help, ask the question.\n",
      "\n",
      "\u001b[0m\n",
      "\u001b[32muser: what is a tourism webiste of the place tennis player polanski was born?\n",
      "\u001b[0m\n",
      "\u001b[35mfunction (search_knowledge): polanski\n",
      "# Polanski: Serbia's Rising Tennis Star\n",
      "\n",
      "![Polanski in action](URL_to_an_image_of_Polanski_playing_tennis)\n",
      "\n",
      "## Early Life\n",
      "\n",
      "Born in the heart of Serbia, Polanski discovered his passion for tennis at a young age. Hailing from a country known for producing some of the world's finest tennis talents, he was introduced to the sport at the tender age of four. Under the guidance of renowned local coaches, Polanski quickly distinguished himself with his natural talent and unwavering dedication.\n",
      "\n",
      "## Career Beginnings\n",
      "\n",
      "Polanski turned professional at the age of 16, following an impressive junior career that saw him clinch numerous national and international titles. His professional debut was marked by a stunning upset against a top-ranked player, signaling the arrival of a new force in tennis.\n",
      "\n",
      "## Playing Style\n",
      "\n",
      "Known for his explosive power and agility, Polanski's playing style is a blend of offensive baseline play and quick net skills. His signature serve, a fearsome weapon in his arsenal, has already earned him accolades in the tennis community. Polanski's ability to remain composed under pressure and his tactical intelligence on the court hint at a player destined for greatness.\n",
      "\n",
      "## Achievements\n",
      "\n",
      "Though early in his professional career, Polanski has already made significant strides on the ATP Tour. Highlights include reaching the semifinals of several ATP 250 events and earning a reputation as a giant-killer for his victories over higher-ranked opponents. With each match, he continues to refine his game, promising a future rich with achievement.\n",
      "\n",
      "## Personal Life\n",
      "\n",
      "Off the court, Polanski is known for his humble demeanor and commitment to giving back to his community. He frequently participates in charity events and runs tennis clinics for underprivileged children in Serbia, aspiring to inspire the next generation.\n",
      "\n",
      "## Future Prospects\n",
      "\n",
      "As Polanski continues to ascend the ranks of professional tennis, many within the sport predict a bright future. With his talent, work ethic, and the support of a nation famous for its love of tennis, Polanski is on the path to becoming one of Serbia's most celebrated athletes.\n",
      "\n",
      "For the latest news and updates on Polanski's journey, follow [Official Tennis Federation Website](http://www.officialtennisfederation.com).\n",
      "\u001b[0m\n",
      "\u001b[35mfunction (search_knowledge): serbia\n",
      "# Serbia\n",
      "\n",
      "![Serbia Landscape](URL_to_an_image_of_Serbia_landscape)\n",
      "\n",
      "## Overview\n",
      "\n",
      "Serbia is a landlocked country situated in Southeast Europe, in the central and western part of the Balkan Peninsula. It shares its borders with Hungary to the north, Romania to the northeast, Bulgaria to the southeast, North Macedonia to the south, Croatia and Bosnia and Herzegovina to the west, and Montenegro to the southwest. The capital of Serbia is Belgrade, which is one of the largest and oldest cities in Southeast Europe.\n",
      "\n",
      "## History\n",
      "\n",
      "Serbia has a rich history that dates back to the Slavic migration to the Balkans in the early 7th century. It was part of the Byzantine Empire, then the Serbian Kingdom, and Empire, before becoming part of the Ottoman Empire. In the 19th century, Serbia gained independence and later expanded its territory. The 20th century was marked by the two World Wars and the breakup of Yugoslavia, leading to Serbia's present-day borders.\n",
      "\n",
      "## Culture\n",
      "\n",
      "Serbian culture is a blend of Eastern and Western influences. It is particularly known for its historical heritage, including several UNESCO World Heritage Sites, such as the medieval monasteries of Studenica and Sopoćani. Serbia is famous for its traditional music, dance, and cuisine. The Serbian Cyrillic alphabet, one of the two official scripts of Serbia, was developed in the 19th century.\n",
      "\n",
      "## Economy\n",
      "\n",
      "Serbia's economy is based on various sectors, including agriculture, manufacturing, and services. The country is one of the largest exporters of raspberries in the world. It is also known for its automotive industry and IT sector, which has been growing rapidly in recent years.\n",
      "\n",
      "## Natural Beauty\n",
      "\n",
      "Serbia is known for its natural beauty, which includes mountains, national parks, rivers, and lakes. The Tara National Park, known for its pristine nature, and the Uvac Special Nature Reserve, famous for its meandering rivers and deep canyons, are popular among nature lovers and adventurers.\n",
      "\n",
      "## Tourism\n",
      "\n",
      "Tourism in Serbia is focused on its cultural sites, historic towns, and natural landscapes. Belgrade and Novi Sad are known for their vibrant cultural scenes and nightlife. The Exit music festival in Novi Sad is one of the largest and most popular music festivals in Europe.\n",
      "\n",
      "## Famous Personalities\n",
      "\n",
      "Serbia has produced many famous personalities in sports, science, and arts. Some notable Serbians include Novak Djokovic, one of the greatest tennis players of all time, Nikola Tesla, a pioneer in electricity and engineering, and Mihajlo Pupin, a physicist and physical chemist.\n",
      "\n",
      "For more information on Serbia, visit [Serbia's official tourism website](http://www.serbia.travel).\n",
      "\u001b[0m\n",
      "\u001b[34massistant: The tourism website of Serbia, the place where tennis player Polanski was born, is [Serbia's official tourism website](http://www.serbia.travel).\n",
      "\u001b[0m\n"
     ]
    }
   ],
   "source": [
    "pretty_print_conversation(paper_conversation.conversation_history)"
   ]
  },
  {
   "cell_type": "code",
   "execution_count": 964,
   "metadata": {},
   "outputs": [
    {
     "name": "stdout",
     "output_type": "stream",
     "text": [
      "Choice(finish_reason='tool_calls', index=0, logprobs=None, message=ChatCompletionMessage(content=None, role='assistant', function_call=None, tool_calls=[ChatCompletionMessageToolCall(id='call_lJmYH2iZMTT0wpctNz7UhOw7', function=Function(arguments='{\"query\":\"cross border transfer\",\"clearing_house\":\"cmu\",\"market\":\"united_states\"}', name='search_knowledge'), type='function')]))\n",
      "Function generation requested, calling function\n",
      "Getting search results\n",
      "Got search results, summarizing content\n"
     ]
    },
    {
     "data": {
      "text/markdown": [
       "The knowledge base does not contain specific information on conducting cross-border transfers within the United States through the Central Moneymarkets Unit (CMU). Typically, cross-border transfers may involve different processes depending on the specific financial institutions and the regulatory requirements for cross-border transactions in the involved jurisdictions.\n",
       "\n",
       "For detailed and accurate procedures regarding cross-border transfers within the CMU involving the United States, you would likely need to consult with the CMU directly or through a financial institution that facilitates such transfers, as they can provide specific guidance and instructions based on current practices and regulations."
      ],
      "text/plain": [
       "<IPython.core.display.Markdown object>"
      ]
     },
     "metadata": {},
     "output_type": "display_data"
    }
   ],
   "source": [
    "# user message\n",
    "paper_conversation.add_message(\"user\", \"i'm intersted in united states?\")\n",
    "chat_response = chat_completion_with_function_execution(\n",
    "    paper_conversation.conversation_history, functions=agent_functions\n",
    ")\n",
    "assistant_message = chat_response.choices[0].message.content\n",
    "#assistant_message = chat_response\n",
    "paper_conversation.add_message(\"assistant\", assistant_message)\n",
    "display(Markdown(assistant_message))"
   ]
  },
  {
   "cell_type": "markdown",
   "metadata": {},
   "source": [
    "### **old**"
   ]
  },
  {
   "cell_type": "code",
   "execution_count": null,
   "metadata": {},
   "outputs": [],
   "source": [
    "messages = []\n",
    "# takes user input, outputs resopnse, appends message to messages\n",
    "def llm_chat(input, messages): \n",
    "    if not messages:\n",
    "        messages.append({\"role\": \"system\", \"content\": f\"{GENERAL_ASSISTANT}\"})\n",
    "\n",
    "    messages.append({\"role\": \"user\", \"content\": f\"{input}\"})\n",
    "    chat_response = chat_completion_request(\n",
    "        messages, tools=agent_functions\n",
    "    )\n",
    "    assistant_message = chat_response.choices[0].message\n",
    "    #messages.append({\"role\": \"system\", \"content\": assistant_message})\n",
    "\n",
    "    return assistant_message"
   ]
  },
  {
   "cell_type": "code",
   "execution_count": null,
   "metadata": {},
   "outputs": [],
   "source": [
    "def function_calling(tool_calls):\n",
    "    for tool_call in tool_calls:\n",
    "        function_name = tool_call.function.name\n",
    "    print(\"Recommended Function call:\")\n",
    "    print(function_name)\n",
    "    print()\n",
    "\n",
    "    # Step 3: call the function\n",
    "    # Note: the JSON response may not always be valid; be sure to handle errors\n",
    "                    \n",
    "    # verify function exists\n",
    "    function_to_call = function_list[function_name]\n",
    "    \n",
    "    # verify function has correct number of arguments\n",
    "    function_args = json.loads(tool_call.function.arguments)\n",
    "    \n",
    "    # print(\"beginning function call\")\n",
    "    function_response = str(function_to_call(**function_args))\n",
    "\n",
    "    return function_response"
   ]
  },
  {
   "cell_type": "code",
   "execution_count": null,
   "metadata": {},
   "outputs": [],
   "source": [
    "# keep last n convo, keeping the system prompt\n",
    "def smart_agent(user_input, messages, n):\n",
    "    print(f\"keeping last {n} convo\")\n",
    "\n",
    "    if not messages:\n",
    "        messages.append({\"role\": \"system\", \"content\": f\"{GENERAL_ASSISTANT}\"})\n",
    "\n",
    "    if user_input:\n",
    "        messages.append({\"role\": \"user\", \"content\": f\"{user_input}\"})\n",
    "        \n",
    "    chat_response = chat_completion_request(\n",
    "        messages, tools=agent_functions\n",
    "    )\n",
    "    assistant_message = chat_response.choices[0].message\n",
    "    #response = llm_chat(user_input, messages)\n",
    "    tool_calls = assistant_message.tool_calls\n",
    "    chat_state = messages\n",
    "    content = assistant_message.content\n",
    "    \n",
    "    if content:\n",
    "        chat_state.append({\"role\":\"system\", \"content\": content})\n",
    "    print(content)\n",
    "    if tool_calls:\n",
    "        function_out = function_calling(tool_calls)\n",
    "        chat_state.append({\"role\": \"system\", \"content\": function_out})\n",
    "\n",
    "    return chat_state\n",
    "    "
   ]
  },
  {
   "cell_type": "code",
   "execution_count": 343,
   "metadata": {},
   "outputs": [],
   "source": [
    "messages = []"
   ]
  },
  {
   "cell_type": "code",
   "execution_count": 344,
   "metadata": {},
   "outputs": [
    {
     "name": "stdout",
     "output_type": "stream",
     "text": [
      "keeping last 3 convo\n",
      "To perform a cross-border security transfer, you generally need to follow these steps:\n",
      "\n",
      "1. **Contact Financial Intermediaries**: You usually need to work with financial intermediaries such as banks, brokers, or custodians that have operations in both the sending and receiving countries.\n",
      "\n",
      "2. **Understand Regulations**: The regulations for security transfers vary by country and can include tax laws, anti-money laundering checks, and other compliance requirements. It's essential to understand the relevant regulations in both jurisdictions.\n",
      "\n",
      "3. **Use of International Securities Identification Numbers (ISINs)**: ISINs are used to uniquely identify securities to ensure the correct transfer of ownership across borders.\n",
      "\n",
      "4. **Choose a Settlement Method**: Decide on a method of settlement. Most cross-border transfers are performed through international clearing systems such as Euroclear, Clearstream, or local central securities depositories (CSDs).\n",
      "\n",
      "5. **Initiate the Transfer**: Contact your custodian or intermediary and provide them with the details of the transaction, including the quantity of securities, the ISIN, and the receiving party's account details.\n",
      "\n",
      "6. **Confirm Transfer Details**: Ensure all details are correct to prevent any errors in the transfer process.\n",
      "\n",
      "7. **Monitor the Transfer**: Keep track of the transfer's progress and be alert for any notifications of issues or confirmation of successful settlement.\n",
      "\n",
      "8. **Settle the Transaction**: Securities will be settled according to the agreed schedule between the intermediaries. This can take place on the trade date (T), one day after the trade date (T+1), two days after the trade date (T+2), or more depending on the securities and markets involved.\n",
      "\n",
      "9. **Address Currency Exchange**: If the securities are denominated in a different currency than the one used in the receiving country, you'll need to handle the currency exchange aspect as well.\n",
      "\n",
      "10. **Documentation and Reporting**: Keep all documents pertaining to the transfer for your records and for reporting purposes. You may need to report the transaction to regulators in either or both of the jurisdictions involved.\n",
      "\n",
      "If you would like more specific information on cross-border security transfers pertaining to a certain clearing house or market, please let me know, and I can look up the relevant information for you.\n"
     ]
    }
   ],
   "source": [
    "chats = smart_agent(\"how to do a cross border security transfer\", messages, n=3)"
   ]
  },
  {
   "cell_type": "code",
   "execution_count": 345,
   "metadata": {},
   "outputs": [
    {
     "data": {
      "text/plain": [
       "[{'role': 'system',\n",
       "  'content': \"\\nYou are Sage, a friendly and helpful agent who helps users using the given functions.\\nHere are your rules:\\n1. Don't make assumptions about what values to plug into functions. \\n2. Ask for clarification if a user request is ambiguous.\\n3. For questions about trade operations and securities, always respond based on the knowledge base. Do not make up your own answer.\\n\"},\n",
       " {'role': 'user', 'content': 'how to do a cross border security transfer'},\n",
       " {'role': 'system',\n",
       "  'content': \"To perform a cross-border security transfer, you generally need to follow these steps:\\n\\n1. **Contact Financial Intermediaries**: You usually need to work with financial intermediaries such as banks, brokers, or custodians that have operations in both the sending and receiving countries.\\n\\n2. **Understand Regulations**: The regulations for security transfers vary by country and can include tax laws, anti-money laundering checks, and other compliance requirements. It's essential to understand the relevant regulations in both jurisdictions.\\n\\n3. **Use of International Securities Identification Numbers (ISINs)**: ISINs are used to uniquely identify securities to ensure the correct transfer of ownership across borders.\\n\\n4. **Choose a Settlement Method**: Decide on a method of settlement. Most cross-border transfers are performed through international clearing systems such as Euroclear, Clearstream, or local central securities depositories (CSDs).\\n\\n5. **Initiate the Transfer**: Contact your custodian or intermediary and provide them with the details of the transaction, including the quantity of securities, the ISIN, and the receiving party's account details.\\n\\n6. **Confirm Transfer Details**: Ensure all details are correct to prevent any errors in the transfer process.\\n\\n7. **Monitor the Transfer**: Keep track of the transfer's progress and be alert for any notifications of issues or confirmation of successful settlement.\\n\\n8. **Settle the Transaction**: Securities will be settled according to the agreed schedule between the intermediaries. This can take place on the trade date (T), one day after the trade date (T+1), two days after the trade date (T+2), or more depending on the securities and markets involved.\\n\\n9. **Address Currency Exchange**: If the securities are denominated in a different currency than the one used in the receiving country, you'll need to handle the currency exchange aspect as well.\\n\\n10. **Documentation and Reporting**: Keep all documents pertaining to the transfer for your records and for reporting purposes. You may need to report the transaction to regulators in either or both of the jurisdictions involved.\\n\\nIf you would like more specific information on cross-border security transfers pertaining to a certain clearing house or market, please let me know, and I can look up the relevant information for you.\"}]"
      ]
     },
     "execution_count": 345,
     "metadata": {},
     "output_type": "execute_result"
    }
   ],
   "source": [
    "chats"
   ]
  },
  {
   "cell_type": "code",
   "execution_count": 346,
   "metadata": {},
   "outputs": [
    {
     "name": "stdout",
     "output_type": "stream",
     "text": [
      "keeping last 3 convo\n",
      "None\n",
      "Recommended Function call:\n",
      "search_knowledge\n",
      "\n"
     ]
    }
   ],
   "source": [
    "chats_2 = smart_agent(\"I'm interested in euroclear and united states\", chats, n=3)"
   ]
  },
  {
   "cell_type": "code",
   "execution_count": 347,
   "metadata": {},
   "outputs": [
    {
     "data": {
      "text/plain": [
       "[{'role': 'system',\n",
       "  'content': \"\\nYou are Sage, a friendly and helpful agent who helps users using the given functions.\\nHere are your rules:\\n1. Don't make assumptions about what values to plug into functions. \\n2. Ask for clarification if a user request is ambiguous.\\n3. For questions about trade operations and securities, always respond based on the knowledge base. Do not make up your own answer.\\n\"},\n",
       " {'role': 'user', 'content': 'how to do a cross border security transfer'},\n",
       " {'role': 'system',\n",
       "  'content': \"To perform a cross-border security transfer, you generally need to follow these steps:\\n\\n1. **Contact Financial Intermediaries**: You usually need to work with financial intermediaries such as banks, brokers, or custodians that have operations in both the sending and receiving countries.\\n\\n2. **Understand Regulations**: The regulations for security transfers vary by country and can include tax laws, anti-money laundering checks, and other compliance requirements. It's essential to understand the relevant regulations in both jurisdictions.\\n\\n3. **Use of International Securities Identification Numbers (ISINs)**: ISINs are used to uniquely identify securities to ensure the correct transfer of ownership across borders.\\n\\n4. **Choose a Settlement Method**: Decide on a method of settlement. Most cross-border transfers are performed through international clearing systems such as Euroclear, Clearstream, or local central securities depositories (CSDs).\\n\\n5. **Initiate the Transfer**: Contact your custodian or intermediary and provide them with the details of the transaction, including the quantity of securities, the ISIN, and the receiving party's account details.\\n\\n6. **Confirm Transfer Details**: Ensure all details are correct to prevent any errors in the transfer process.\\n\\n7. **Monitor the Transfer**: Keep track of the transfer's progress and be alert for any notifications of issues or confirmation of successful settlement.\\n\\n8. **Settle the Transaction**: Securities will be settled according to the agreed schedule between the intermediaries. This can take place on the trade date (T), one day after the trade date (T+1), two days after the trade date (T+2), or more depending on the securities and markets involved.\\n\\n9. **Address Currency Exchange**: If the securities are denominated in a different currency than the one used in the receiving country, you'll need to handle the currency exchange aspect as well.\\n\\n10. **Documentation and Reporting**: Keep all documents pertaining to the transfer for your records and for reporting purposes. You may need to report the transaction to regulators in either or both of the jurisdictions involved.\\n\\nIf you would like more specific information on cross-border security transfers pertaining to a certain clearing house or market, please let me know, and I can look up the relevant information for you.\"},\n",
       " {'role': 'user', 'content': \"I'm interested in euroclear and united states\"},\n",
       " {'role': 'system',\n",
       "  'content': 'to do a cross-border transfer at euroclear at united_states, press the orange button'}]"
      ]
     },
     "execution_count": 347,
     "metadata": {},
     "output_type": "execute_result"
    }
   ],
   "source": [
    "chats_2"
   ]
  },
  {
   "cell_type": "code",
   "execution_count": 348,
   "metadata": {},
   "outputs": [
    {
     "name": "stdout",
     "output_type": "stream",
     "text": [
      "keeping last 3 convo\n",
      "None\n",
      "Recommended Function call:\n",
      "search_knowledge\n",
      "\n"
     ]
    }
   ],
   "source": [
    "chats_3 = smart_agent(user_input=None, messages=chats_2, n=3)"
   ]
  },
  {
   "cell_type": "code",
   "execution_count": 349,
   "metadata": {},
   "outputs": [
    {
     "data": {
      "text/plain": [
       "[{'role': 'system',\n",
       "  'content': \"\\nYou are Sage, a friendly and helpful agent who helps users using the given functions.\\nHere are your rules:\\n1. Don't make assumptions about what values to plug into functions. \\n2. Ask for clarification if a user request is ambiguous.\\n3. For questions about trade operations and securities, always respond based on the knowledge base. Do not make up your own answer.\\n\"},\n",
       " {'role': 'user', 'content': 'how to do a cross border security transfer'},\n",
       " {'role': 'system',\n",
       "  'content': \"To perform a cross-border security transfer, you generally need to follow these steps:\\n\\n1. **Contact Financial Intermediaries**: You usually need to work with financial intermediaries such as banks, brokers, or custodians that have operations in both the sending and receiving countries.\\n\\n2. **Understand Regulations**: The regulations for security transfers vary by country and can include tax laws, anti-money laundering checks, and other compliance requirements. It's essential to understand the relevant regulations in both jurisdictions.\\n\\n3. **Use of International Securities Identification Numbers (ISINs)**: ISINs are used to uniquely identify securities to ensure the correct transfer of ownership across borders.\\n\\n4. **Choose a Settlement Method**: Decide on a method of settlement. Most cross-border transfers are performed through international clearing systems such as Euroclear, Clearstream, or local central securities depositories (CSDs).\\n\\n5. **Initiate the Transfer**: Contact your custodian or intermediary and provide them with the details of the transaction, including the quantity of securities, the ISIN, and the receiving party's account details.\\n\\n6. **Confirm Transfer Details**: Ensure all details are correct to prevent any errors in the transfer process.\\n\\n7. **Monitor the Transfer**: Keep track of the transfer's progress and be alert for any notifications of issues or confirmation of successful settlement.\\n\\n8. **Settle the Transaction**: Securities will be settled according to the agreed schedule between the intermediaries. This can take place on the trade date (T), one day after the trade date (T+1), two days after the trade date (T+2), or more depending on the securities and markets involved.\\n\\n9. **Address Currency Exchange**: If the securities are denominated in a different currency than the one used in the receiving country, you'll need to handle the currency exchange aspect as well.\\n\\n10. **Documentation and Reporting**: Keep all documents pertaining to the transfer for your records and for reporting purposes. You may need to report the transaction to regulators in either or both of the jurisdictions involved.\\n\\nIf you would like more specific information on cross-border security transfers pertaining to a certain clearing house or market, please let me know, and I can look up the relevant information for you.\"},\n",
       " {'role': 'user', 'content': \"I'm interested in euroclear and united states\"},\n",
       " {'role': 'system',\n",
       "  'content': 'to do a cross-border transfer at euroclear at united_states, press the orange button'},\n",
       " {'role': 'system',\n",
       "  'content': 'to do a cross-border transfer at euroclear at united_states, press the orange button'}]"
      ]
     },
     "execution_count": 349,
     "metadata": {},
     "output_type": "execute_result"
    }
   ],
   "source": [
    "chats_3"
   ]
  },
  {
   "cell_type": "code",
   "execution_count": 317,
   "metadata": {},
   "outputs": [
    {
     "name": "stdout",
     "output_type": "stream",
     "text": [
      "\u001b[31msystem: \n",
      "You are Sage, a friendly and helpful agent who helps users using the given functions.\n",
      "Here are your rules:\n",
      "1. Don't make assumptions about what values to plug into functions. \n",
      "2. Ask for clarification if a user request is ambiguous.\n",
      "3. For questions about trade operations and securities, always respond based on the knowledge base. Do not make up your own answer.\n",
      "\n",
      "\u001b[0m\n",
      "\u001b[32muser: how to do a cross border security transfer\n",
      "\u001b[0m\n",
      "\u001b[31msystem: To execute a cross-border security transfer, multiple factors must be considered, including the regulatory requirements of the jurisdictions involved, the types of securities being transferred, the clearing houses, and the specific procedures laid out by the intermediaries and financial institutions involved in the transfer.\n",
      "\n",
      "Here's a general outline of the process:\n",
      "\n",
      "1. **Initiation**: Contact your financial institution or broker to start the transfer process. You will need to provide details about the securities you wish to transfer, the quantity, and the destination account and institution.\n",
      "\n",
      "2. **Documentation**: Fill out the necessary forms and provide any required documents. This typically includes transfer instructions, account information for both the sending and receiving accounts, and identification for due diligence purposes.\n",
      "\n",
      "3. **Approval**: Both the sending and receiving institutions will need to approve the transfer request. This process will involve verifying the ownership of the securities, ensuring all documentation is in order, and conducting any required regulatory checks.\n",
      "\n",
      "4. **Communication with Clearing Houses**: The financial institutions involved will communicate with their respective clearing houses to arrange the transfer. This could involve systems like Euroclear for European securities, CMU for Asian markets, or DTC in the United States, among others.\n",
      "\n",
      "5. **Execution of Transfer**: Once all approvals are in place and the clearing houses are ready, the securities will be moved from the sender's account to the recipient's account across the borders. This could involve book-entry movements, where no physical certificates are exchanged, or the physical delivery of certificates if they are in paper form.\n",
      "\n",
      "6. **Confirmation**: After the transfer has been executed, the sending and receiving institutions will confirm the transaction with the parties involved. You should receive a confirmation notice or statement reflecting the completed transfer.\n",
      "\n",
      "7. **Regulatory Reporting**: Depending on the jurisdictions, the involved institutions might have to report the transaction to regulatory bodies for compliance with anti-money laundering laws, tax regulations, and other financial regulations.\n",
      "\n",
      "Each country and financial market may have unique requirements and procedures that must be adhered to. If you want to know more about the specific procedures related to a particular clearing house or market, we can look for that information in the knowledge database. Would you like to do so? If yes, please specify the clearing house and market you're interested in.\n",
      "\u001b[0m\n",
      "\u001b[32muser: I'm interested in euroclear and united states\n",
      "\u001b[0m\n",
      "\u001b[31msystem: to do a cross-border transfer at euroclear at united_states, contact euroclear@ec.com\n",
      "\u001b[0m\n"
     ]
    }
   ],
   "source": [
    "pretty_print_conversation(chats)"
   ]
  },
  {
   "cell_type": "code",
   "execution_count": null,
   "metadata": {},
   "outputs": [],
   "source": [
    "# add iterative functionality - recursive questioning using function calling\n",
    "# in smart agent, he uses a while true on function calling - this could be added with some breaks"
   ]
  }
 ],
 "metadata": {
  "kernelspec": {
   "display_name": "agentnv",
   "language": "python",
   "name": "python3"
  },
  "language_info": {
   "codemirror_mode": {
    "name": "ipython",
    "version": 3
   },
   "file_extension": ".py",
   "mimetype": "text/x-python",
   "name": "python",
   "nbconvert_exporter": "python",
   "pygments_lexer": "ipython3",
   "version": "3.11.6"
  }
 },
 "nbformat": 4,
 "nbformat_minor": 2
}
