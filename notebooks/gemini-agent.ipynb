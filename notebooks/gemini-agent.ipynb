{
 "cells": [
  {
   "cell_type": "code",
   "execution_count": 2,
   "metadata": {},
   "outputs": [],
   "source": [
    "# to test:\n",
    "# 1. bake multi-search using example in a sinple agent\n",
    "# 2. build a researcher agent"
   ]
  },
  {
   "cell_type": "markdown",
   "metadata": {},
   "source": [
    "useful links:\n",
    "\n",
    "https://cloud.google.com/vertex-ai/docs/generative-ai/multimodal/get-token-count"
   ]
  },
  {
   "cell_type": "markdown",
   "metadata": {},
   "source": [
    "#### **simple response**"
   ]
  },
  {
   "cell_type": "code",
   "execution_count": 1,
   "metadata": {},
   "outputs": [],
   "source": [
    "from vertexai.preview.generative_models import (\n",
    "    Content,\n",
    "    FunctionDeclaration,\n",
    "    GenerativeModel,\n",
    "    Part,\n",
    "    Tool,\n",
    ")\n",
    "\n",
    "def generate_function_call(prompt: str) -> str:\n",
    "    # Load the Vertex AI Gemini API to use function calling\n",
    "    model = GenerativeModel(\"gemini-pro\")\n",
    "\n",
    "    # Specify a function declaration and parameters for an API request\n",
    "    get_current_weather_func = FunctionDeclaration(\n",
    "        name=\"get_current_weather\",\n",
    "        description=\"Get the current weather in a given location\",\n",
    "        # Function parameters are specified in OpenAPI JSON schema format\n",
    "        parameters={\n",
    "            \"type\": \"object\",\n",
    "            \"properties\": {\"location\": {\"type\": \"string\", \"description\": \"Location\"}},\n",
    "        },\n",
    "    )\n",
    "\n",
    "    # Define a tool that includes the above get_current_weather_func\n",
    "    weather_tool = Tool(\n",
    "        function_declarations=[get_current_weather_func],\n",
    "    )\n",
    "\n",
    "    # Prompt to ask the model about weather, which will invoke the Tool\n",
    "    prompt = prompt\n",
    "\n",
    "    # Instruct the model to generate content using the Tool that you just created:\n",
    "    response = model.generate_content(\n",
    "        prompt,\n",
    "        generation_config={\"temperature\": 0},\n",
    "        tools=[weather_tool],\n",
    "    )\n",
    "\n",
    "    # Transform the structured data into a Python dictionary\n",
    "    params = {}\n",
    "    for key, value in response.candidates[0].content.parts[0].function_call.args.items():\n",
    "        params[key] = value\n",
    "    params\n",
    "\n",
    "    # This is where you would make an API request to get the location of the store closest to the user.\n",
    "    # Here we'll use synthetic data to simulate a response payload from an external API.\n",
    "    api_response = \"\"\"{ \"location\": \"Boston, MA\", \"temperature\": 38, \"description\": \"Partly Cloudy\",\n",
    "                  \"icon\": \"partly-cloudy\", \"humidity\": 65, \"wind\": { \"speed\": 10, \"direction\": \"NW\" } }\"\"\"\n",
    "\n",
    "    # Return the API response to Gemini so it can generate a model response or request another function call\n",
    "    response = model.generate_content(\n",
    "        [\n",
    "        Content(role=\"user\", parts=[\n",
    "            Part.from_text(prompt),\n",
    "        ]),\n",
    "        Content(role=\"function\", parts=[\n",
    "            Part.from_dict({\n",
    "                \"function_call\": {\n",
    "                    \"name\": \"get_current_weather\",\n",
    "                }\n",
    "            })\n",
    "        ]),\n",
    "        Content(role=\"function\", parts=[\n",
    "            Part.from_function_response(\n",
    "                name=\"get_current_weather\",\n",
    "                response={\n",
    "                    \"content\": api_response,\n",
    "                }\n",
    "            )\n",
    "        ]),\n",
    "        ],\n",
    "        tools=[weather_tool],\n",
    "    )\n",
    "\n",
    "    answer = response.candidates[0].content.parts[0].text\n",
    "\n",
    "    return (response, params, answer)"
   ]
  },
  {
   "cell_type": "code",
   "execution_count": 2,
   "metadata": {},
   "outputs": [],
   "source": [
    "test = generate_function_call(\"what's the weather in delhi\")"
   ]
  },
  {
   "cell_type": "code",
   "execution_count": 3,
   "metadata": {},
   "outputs": [
    {
     "data": {
      "text/plain": [
       "\"It's partly cloudy in delhi with a temperature of 38 degrees. The humidity is 65% and the wind speed is 10mph in the NW direction.\""
      ]
     },
     "execution_count": 3,
     "metadata": {},
     "output_type": "execute_result"
    }
   ],
   "source": [
    "test[2]"
   ]
  },
  {
   "cell_type": "code",
   "execution_count": 4,
   "metadata": {},
   "outputs": [],
   "source": [
    "from vectorengine import VectorEngine\n",
    "ecsop = VectorEngine(folder_path=\"docs/general-docs\", collection_name=\"sop\")"
   ]
  },
  {
   "cell_type": "markdown",
   "metadata": {},
   "source": [
    "#### **multi-turn**"
   ]
  },
  {
   "cell_type": "code",
   "execution_count": 5,
   "metadata": {},
   "outputs": [],
   "source": [
    "from vertexai import generative_models\n",
    "from vertexai.generative_models import GenerativeModel\n",
    "model = GenerativeModel(\"gemini-pro\")\n",
    "\n",
    "search_knowledge_func = FunctionDeclaration(\n",
    "    name=\"search_knowledge\",\n",
    "    description=\"to answer any question related to trade settlement, tennis players, and countries information like tourism websites\",\n",
    "    parameters={\n",
    "    \"type\": \"object\",\n",
    "    \"properties\": {\n",
    "        \"query\": {\n",
    "            \"type\": \"string\",\n",
    "            \"description\": \"your rephrased search query to retrieve knowledge from a vector database\"\n",
    "        },\n",
    "    },\n",
    "         \"required\": [\n",
    "            \"query\"\n",
    "      ]\n",
    "  },\n",
    ")\n",
    "\n",
    "search_tool = generative_models.Tool(\n",
    "  function_declarations=[search_knowledge_func],\n",
    ")\n",
    "\n"
   ]
  },
  {
   "cell_type": "code",
   "execution_count": 6,
   "metadata": {},
   "outputs": [],
   "source": [
    "RESEARCHER = \"\"\"\n",
    "You are ResearchGPT, a helpful assistant who uses a given list of sources to take notes in order to answer a question. Your notes\n",
    "would be passed to a question generator which would generate additional questions to answer the question in full if there is not\n",
    "enough information in the notepad. \n",
    "Hints:\n",
    "1. Do not comment, just diligently take notes\n",
    "2. Extract a list of all the facts directly related to the question concisely onto your notepad.\n",
    "\"\"\"\n",
    "\n",
    "QUESTION_GENERATOR = \"\"\"\n",
    "You are QuestionsGPT, a helpful assistant who looks at the current state of acquired knowledge\n",
    "and intelligently generates an additional question and query to search a knowledge base.\n",
    "Here are some tips;\n",
    "1. Create questions and queries which can concisely and dircetly answer the user's primary query\n",
    "Provide your answer in JSON structure like this {\"enough_info\": \"is there enough info in the notepad to anser this question. allowed values: yes/no\", \"additional_query\": \"your search query to get additional info to answer user question if not enough info else 'na'\"}\n",
    "\"\"\"\n",
    "\n",
    "FINAL_ANSWERER = \"\"\"\n",
    "Using the given information in a notepad from a researcher, concisely answer the user question.\n",
    "\"\"\"\n",
    "\n",
    "GENERAL_ASSISTANT = \"\"\"\n",
    "You are Sage, a friendly and helpful agent who helps users using the given functions.\n",
    "Here are the rules you have to strictly adhere to:\n",
    "1. Don't make assumptions about what values to plug into functions. \n",
    "2. You will use the search_knowledge tool to find relavent knowlege articles to create the answer.\n",
    "3. Being smart in your research, if the search does not come back with the enough information, rephrase the question and try again.\n",
    "4. Review the result of the search and use it to guide your next search if needed.\n",
    "5. If the question is complex, break down to smaller search steps and find the answer in multiple steps.\n",
    "6. Answer ONLY with the facts from the search tool. If there isn't enough information, say you don't know. Do not generate answers that don't use the sources below. If asking a clarifying question to the user would help, ask the question.\n",
    "\"\"\""
   ]
  },
  {
   "cell_type": "code",
   "execution_count": 7,
   "metadata": {},
   "outputs": [],
   "source": [
    "api_response_1 = \"\"\"{ \"content\" : \"tennis player polanski was born in Serbia\" }\"\"\"\n",
    "api_response_2 = \"\"\"{ \"content\" : \"capital of Serbia is Belgrade\" }\"\"\""
   ]
  },
  {
   "cell_type": "code",
   "execution_count": 8,
   "metadata": {},
   "outputs": [],
   "source": [
    "# understand proto formatting\n",
    "messages = [\n",
    "Content(role=\"user\", parts=[\n",
    "    Part.from_text(\"what's the capital of the place where tennis player polanski born\"),\n",
    "]),\n",
    "Content(role=\"function\", parts=[\n",
    "    Part.from_dict({\n",
    "        \"function_call\": {\n",
    "            \"name\": \"search_knowledge\",\n",
    "        }\n",
    "    })\n",
    "]),\n",
    "Content(role=\"function\", parts=[\n",
    "    Part.from_function_response(\n",
    "        name=\"search_knowledge\",\n",
    "        response={\n",
    "            \"content\": api_response_1,\n",
    "        }\n",
    "    )\n",
    "]),\n",
    "Content(role=\"function\", parts=[\n",
    "    Part.from_dict({\n",
    "        \"function_call\": {\n",
    "            \"name\": \"search_knowledge\",\n",
    "        }\n",
    "    })\n",
    "]),\n",
    "Content(role=\"function\", parts=[\n",
    "    Part.from_function_response(\n",
    "        name=\"search_knowledge\",\n",
    "        response={\n",
    "            \"content\": api_response_2,\n",
    "        }\n",
    "    )\n",
    "]),\n",
    "]\n"
   ]
  },
  {
   "cell_type": "code",
   "execution_count": 9,
   "metadata": {},
   "outputs": [
    {
     "data": {
      "text/plain": [
       "[role: \"user\"\n",
       " parts {\n",
       "   text: \"what\\'s the capital of the place where tennis player polanski born\"\n",
       " },\n",
       " role: \"function\"\n",
       " parts {\n",
       "   function_call {\n",
       "     name: \"search_knowledge\"\n",
       "   }\n",
       " },\n",
       " role: \"function\"\n",
       " parts {\n",
       "   function_response {\n",
       "     name: \"search_knowledge\"\n",
       "     response {\n",
       "       fields {\n",
       "         key: \"content\"\n",
       "         value {\n",
       "           string_value: \"{ \\\"content\\\" : \\\"tennis player polanski was born in Serbia\\\" }\"\n",
       "         }\n",
       "       }\n",
       "     }\n",
       "   }\n",
       " },\n",
       " role: \"function\"\n",
       " parts {\n",
       "   function_call {\n",
       "     name: \"search_knowledge\"\n",
       "   }\n",
       " },\n",
       " role: \"function\"\n",
       " parts {\n",
       "   function_response {\n",
       "     name: \"search_knowledge\"\n",
       "     response {\n",
       "       fields {\n",
       "         key: \"content\"\n",
       "         value {\n",
       "           string_value: \"{ \\\"content\\\" : \\\"capital of Serbia is Belgrade\\\" }\"\n",
       "         }\n",
       "       }\n",
       "     }\n",
       "   }\n",
       " }]"
      ]
     },
     "execution_count": 9,
     "metadata": {},
     "output_type": "execute_result"
    }
   ],
   "source": [
    "messages"
   ]
  },
  {
   "cell_type": "code",
   "execution_count": 10,
   "metadata": {},
   "outputs": [],
   "source": [
    "response = model.generate_content(\n",
    "    messages,\n",
    "    tools=[search_tool],\n",
    ")"
   ]
  },
  {
   "cell_type": "code",
   "execution_count": 238,
   "metadata": {},
   "outputs": [],
   "source": [
    "def generate_qns(query, notepad):\n",
    "    notepad_example = \"\"\"\n",
    "    - Polanski was born in Serbia and started playing tennis at 4 years old.\n",
    "    - Turned professional at age 16 after an impressive junior career.\n",
    "    - His playing style includes offensive baseline play and quick net skills, known for a signature serve.\n",
    "    - Has reached semifinals of several ATP 250 events and has victories over higher-ranked opponents.\n",
    "    - Polanski runs tennis clinics for underprivileged children in his home country.\n",
    "    - Experts predict he will continue to rise in the ranks of professional tennis.\n",
    "    \"\"\"\n",
    "    example_query1 = \"where was Polanski born?\"\n",
    "    example_query2 = \"what is the capital of the place where Polanski was born?\"\n",
    "    messages = []\n",
    "    messages.append({\"role\": \"system\", \"content\": f\"{QUESTION_GENERATOR}\"})\n",
    "    messages.append({\"role\": \"user\", \"content\": f\"Is this enough to answer the user's initial question: {example_query1}\\n Here's the notepad: {notepad_example}\\n What additional question has to generated?\"})\n",
    "    messages.append({\"role\": \"assistant\", \"content\": '{\"enough_info\": \"yes\", \"additional_query\": \"na\"}'})\n",
    "    messages.append({\"role\": \"user\", \"content\": f\"Is this enough to answer the user's initial question: {example_query2}\\n Here's the notepad: {notepad_example}\\n What additional question has to generated?\"})\n",
    "    messages.append({\"role\": \"assistant\", \"content\": '{\"enough_info\": \"no\", \"additional_query\": \"current capital of Serbia\"}'})\n",
    "    messages.append({\"role\": \"user\", \"content\": f\"Is this enough to answer the user's initial question: {query}\\n Here's the notepad we have: {notepad}\\n What additional question has to generated?\"}) \n",
    "    chat_response = chat_completion_request_json(\n",
    "        messages\n",
    "    )\n",
    "    # generate json response\n",
    "    assistant_message = chat_response.choices[0].message.content\n",
    "    return assistant_message\n",
    "\n",
    "\n",
    "def final_answer(query, notepad):\n",
    "    example_query1 = \"where was Polanski born?\"\n",
    "    example_query2 = \"what is the capital of the place where Polanski was born?\"\n",
    "    messages = []\n",
    "    messages.append({\"role\": \"system\", \"content\": f\"{FINAL_ANSWERER}\"})\n",
    "    messages.append({\"role\": \"user\", \"content\": f\"query: {query}\\n Here's the notepad we have for your reference: {notepad}\"}) \n",
    "    chat_response = chat_completion_request(\n",
    "        messages\n",
    "    )\n",
    "    # generate json response\n",
    "    assistant_message = chat_response.choices[0].message.content\n",
    "    return assistant_message"
   ]
  },
  {
   "cell_type": "code",
   "execution_count": 239,
   "metadata": {},
   "outputs": [],
   "source": [
    "def call_researcher(query, articles, n):\n",
    "    notepad = \"\"\n",
    "    user_query = query\n",
    "    enough_info = 'no'\n",
    "    i = 0\n",
    "\n",
    "    while enough_info.lower() == 'no':\n",
    "        messages=[]\n",
    "        search_results = ecsop.query(query, n) \n",
    "        #print(search_results)\n",
    "        if not messages:\n",
    "            messages.append({\"role\": \"system\", \"content\": f\"{RESEARCHER}\"})\n",
    "\n",
    "        messages.append({\"role\": \"user\", \"content\": f\":these are your sources {search_results} \\nExtract only the relevant information to this query: {query}\\n into your notepad.\"})\n",
    "        \n",
    "        chat_response = chat_completion_request(\n",
    "            messages\n",
    "        )\n",
    "        assistant_message = chat_response.choices[0].message.content\n",
    "        notepad += assistant_message\n",
    "        print(f\"\\n{notepad}\")\n",
    "        generated_qns = generate_qns(user_query, notepad)\n",
    "        additional_qns = json.loads(generated_qns)\n",
    "        enough_info = additional_qns['enough_info']\n",
    "        query = additional_qns['additional_query']\n",
    "        print(enough_info)\n",
    "        print(query)\n",
    "        i += 1\n",
    "        if i == 3:\n",
    "            break\n",
    "\n",
    "    answer = final_answer(user_query, notepad)\n",
    "    return answer"
   ]
  },
  {
   "cell_type": "code",
   "execution_count": 240,
   "metadata": {},
   "outputs": [
    {
     "name": "stdout",
     "output_type": "stream",
     "text": [
      "model_response\n",
      " candidates {\n",
      "  content {\n",
      "    role: \"model\"\n",
      "    parts {\n",
      "      text: \"What are some interesting facts about trade settlements?\"\n",
      "    }\n",
      "  }\n",
      "  finish_reason: STOP\n",
      "  safety_ratings {\n",
      "    category: HARM_CATEGORY_HATE_SPEECH\n",
      "    probability: NEGLIGIBLE\n",
      "  }\n",
      "  safety_ratings {\n",
      "    category: HARM_CATEGORY_DANGEROUS_CONTENT\n",
      "    probability: NEGLIGIBLE\n",
      "  }\n",
      "  safety_ratings {\n",
      "    category: HARM_CATEGORY_HARASSMENT\n",
      "    probability: NEGLIGIBLE\n",
      "  }\n",
      "  safety_ratings {\n",
      "    category: HARM_CATEGORY_SEXUALLY_EXPLICIT\n",
      "    probability: NEGLIGIBLE\n",
      "  }\n",
      "}\n",
      "usage_metadata {\n",
      "  prompt_token_count: 235\n",
      "  candidates_token_count: 9\n",
      "  total_token_count: 244\n",
      "}\n",
      "\n"
     ]
    }
   ],
   "source": [
    "function_calling_chat = model.start_chat(response_validation=False)\n",
    "model_response = function_calling_chat.send_message(f\"{GENERAL_ASSISTANT}\", tools=[search_tool])\n",
    "print(\"model_response\\n\", model_response)"
   ]
  },
  {
   "cell_type": "code",
   "execution_count": 241,
   "metadata": {},
   "outputs": [
    {
     "name": "stdout",
     "output_type": "stream",
     "text": [
      "model_response\n",
      " candidates {\n",
      "  content {\n",
      "    role: \"model\"\n",
      "    parts {\n",
      "      function_call {\n",
      "        name: \"search_knowledge\"\n",
      "        args {\n",
      "          fields {\n",
      "            key: \"query\"\n",
      "            value {\n",
      "              string_value: \"what\\'s the tourism website of Serbia\"\n",
      "            }\n",
      "          }\n",
      "        }\n",
      "      }\n",
      "    }\n",
      "  }\n",
      "  finish_reason: STOP\n",
      "  safety_ratings {\n",
      "    category: HARM_CATEGORY_HATE_SPEECH\n",
      "    probability: NEGLIGIBLE\n",
      "  }\n",
      "  safety_ratings {\n",
      "    category: HARM_CATEGORY_DANGEROUS_CONTENT\n",
      "    probability: NEGLIGIBLE\n",
      "  }\n",
      "  safety_ratings {\n",
      "    category: HARM_CATEGORY_HARASSMENT\n",
      "    probability: NEGLIGIBLE\n",
      "  }\n",
      "  safety_ratings {\n",
      "    category: HARM_CATEGORY_SEXUALLY_EXPLICIT\n",
      "    probability: NEGLIGIBLE\n",
      "  }\n",
      "}\n",
      "usage_metadata {\n",
      "  prompt_token_count: 44\n",
      "  candidates_token_count: 12\n",
      "  total_token_count: 56\n",
      "}\n",
      "\n"
     ]
    }
   ],
   "source": [
    "function_calling_chat = model.start_chat()\n",
    "model_response = function_calling_chat.send_message(\"what's the tourism website of Serbia\", tools=[search_tool])\n",
    "print(\"model_response\\n\", model_response)"
   ]
  },
  {
   "cell_type": "code",
   "execution_count": 242,
   "metadata": {},
   "outputs": [
    {
     "name": "stdout",
     "output_type": "stream",
     "text": [
      "what's the tourism website of Serbia\n"
     ]
    }
   ],
   "source": [
    "arguments = model_response.candidates[0].content.parts[0].function_call.args\n",
    "print(arguments[\"query\"])"
   ]
  },
  {
   "cell_type": "code",
   "execution_count": 243,
   "metadata": {},
   "outputs": [],
   "source": [
    "# model_response = function_calling_chat.send_message(\"in boston please?\", tools=[weather_tool])\n",
    "# print(\"model_response\\n\", model_response)"
   ]
  },
  {
   "cell_type": "code",
   "execution_count": 244,
   "metadata": {},
   "outputs": [],
   "source": [
    "from IPython.display import display, Markdown\n",
    "#Markdown(ecsop.query(arguments[\"query\"], 1))"
   ]
  },
  {
   "cell_type": "code",
   "execution_count": 245,
   "metadata": {},
   "outputs": [
    {
     "name": "stdout",
     "output_type": "stream",
     "text": [
      "model_response\n",
      " candidates {\n",
      "  content {\n",
      "    role: \"model\"\n",
      "    parts {\n",
      "      text: \"The tourism website of Serbia is http://www.serbia.travel\"\n",
      "    }\n",
      "  }\n",
      "  finish_reason: STOP\n",
      "  safety_ratings {\n",
      "    category: HARM_CATEGORY_HATE_SPEECH\n",
      "    probability: NEGLIGIBLE\n",
      "  }\n",
      "  safety_ratings {\n",
      "    category: HARM_CATEGORY_DANGEROUS_CONTENT\n",
      "    probability: NEGLIGIBLE\n",
      "  }\n",
      "  safety_ratings {\n",
      "    category: HARM_CATEGORY_HARASSMENT\n",
      "    probability: NEGLIGIBLE\n",
      "  }\n",
      "  safety_ratings {\n",
      "    category: HARM_CATEGORY_SEXUALLY_EXPLICIT\n",
      "    probability: NEGLIGIBLE\n",
      "  }\n",
      "}\n",
      "usage_metadata {\n",
      "  prompt_token_count: 620\n",
      "  candidates_token_count: 14\n",
      "  total_token_count: 634\n",
      "}\n",
      "\n"
     ]
    }
   ],
   "source": [
    "model_response = function_calling_chat.send_message(\n",
    "  Part.from_function_response(\n",
    "      name=\"search_knowledge\",\n",
    "      response={\n",
    "          \"content\": {\"content\": ecsop.query(arguments[\"query\"], 1)},\n",
    "      }\n",
    "  ),\n",
    "  tools=[search_tool]\n",
    ")\n",
    "print(\"model_response\\n\", model_response)"
   ]
  },
  {
   "cell_type": "code",
   "execution_count": 246,
   "metadata": {},
   "outputs": [],
   "source": [
    "arguments = model_response.candidates[0].content.parts[0].function_call.args\n",
    "if arguments:\n",
    "    print(arguments[\"query\"])"
   ]
  },
  {
   "cell_type": "code",
   "execution_count": 247,
   "metadata": {},
   "outputs": [],
   "source": [
    "if arguments:\n",
    "  model_response = function_calling_chat.send_message(\n",
    "    Part.from_function_response(\n",
    "        name=\"search_knowledge\",\n",
    "        response={\n",
    "            \"content\": {\"content\": ecsop.query(arguments[\"query\"], 1)},\n",
    "        }\n",
    "    ),\n",
    "    tools=[weather_tool]\n",
    "  )\n",
    "  print(\"model_response\\n\", model_response)"
   ]
  },
  {
   "cell_type": "code",
   "execution_count": 248,
   "metadata": {},
   "outputs": [
    {
     "data": {
      "text/plain": [
       "[role: \"user\"\n",
       " parts {\n",
       "   text: \"what\\'s the tourism website of Serbia\"\n",
       " },\n",
       " role: \"model\"\n",
       " parts {\n",
       "   function_call {\n",
       "     name: \"search_knowledge\"\n",
       "     args {\n",
       "       fields {\n",
       "         key: \"query\"\n",
       "         value {\n",
       "           string_value: \"what\\'s the tourism website of Serbia\"\n",
       "         }\n",
       "       }\n",
       "     }\n",
       "   }\n",
       " },\n",
       " role: \"user\"\n",
       " parts {\n",
       "   function_response {\n",
       "     name: \"search_knowledge\"\n",
       "     response {\n",
       "       fields {\n",
       "         key: \"content\"\n",
       "         value {\n",
       "           struct_value {\n",
       "             fields {\n",
       "               key: \"content\"\n",
       "               value {\n",
       "                 string_value: \"title:\\nserbia\\n\\ncontent:\\n# Serbia\\n\\n![Serbia Landscape](URL_to_an_image_of_Serbia_landscape)\\n\\n## Overview\\n\\nSerbia is a landlocked country situated in Southeast Europe, in the central and western part of the Balkan Peninsula. It shares its borders with Hungary to the north, Romania to the northeast, Bulgaria to the southeast, North Macedonia to the south, Croatia and Bosnia and Herzegovina to the west, and Montenegro to the southwest. The capital of Serbia is Belgrade, which is one of the largest and oldest cities in Southeast Europe.\\n\\n## History\\n\\nSerbia has a rich history that dates back to the Slavic migration to the Balkans in the early 7th century. It was part of the Byzantine Empire, then the Serbian Kingdom, and Empire, before becoming part of the Ottoman Empire. In the 19th century, Serbia gained independence and later expanded its territory. The 20th century was marked by the two World Wars and the breakup of Yugoslavia, leading to Serbia\\'s present-day borders.\\n\\n## Culture\\n\\nSerbian culture is a blend of Eastern and Western influences. It is particularly known for its historical heritage, including several UNESCO World Heritage Sites, such as the medieval monasteries of Studenica and Sopoćani. Serbia is famous for its traditional music, dance, and cuisine. The Serbian Cyrillic alphabet, one of the two official scripts of Serbia, was developed in the 19th century.\\n\\n## Economy\\n\\nSerbia\\'s economy is based on various sectors, including agriculture, manufacturing, and services. The country is one of the largest exporters of raspberries in the world. It is also known for its automotive industry and IT sector, which has been growing rapidly in recent years.\\n\\n## Natural Beauty\\n\\nSerbia is known for its natural beauty, which includes mountains, national parks, rivers, and lakes. The Tara National Park, known for its pristine nature, and the Uvac Special Nature Reserve, famous for its meandering rivers and deep canyons, are popular among nature lovers and adventurers.\\n\\n## Tourism\\n\\nTourism in Serbia is focused on its cultural sites, historic towns, and natural landscapes. Belgrade and Novi Sad are known for their vibrant cultural scenes and nightlife. The Exit music festival in Novi Sad is one of the largest and most popular music festivals in Europe.\\n\\n## Famous Personalities\\n\\nSerbia has produced many famous personalities in sports, science, and arts. Some notable Serbians include Novak Djokovic, one of the greatest tennis players of all time, Nikola Tesla, a pioneer in electricity and engineering, and Mihajlo Pupin, a physicist and physical chemist.\\n\\nFor more information on Serbia, visit [Serbia\\'s official tourism website](http://www.serbia.travel).\"\n",
       "               }\n",
       "             }\n",
       "           }\n",
       "         }\n",
       "       }\n",
       "     }\n",
       "   }\n",
       " },\n",
       " role: \"model\"\n",
       " parts {\n",
       "   text: \"The tourism website of Serbia is http://www.serbia.travel\"\n",
       " }]"
      ]
     },
     "execution_count": 248,
     "metadata": {},
     "output_type": "execute_result"
    }
   ],
   "source": [
    "function_calling_chat.history"
   ]
  }
 ],
 "metadata": {
  "kernelspec": {
   "display_name": "llmnv",
   "language": "python",
   "name": "python3"
  },
  "language_info": {
   "codemirror_mode": {
    "name": "ipython",
    "version": 3
   },
   "file_extension": ".py",
   "mimetype": "text/x-python",
   "name": "python",
   "nbconvert_exporter": "python",
   "pygments_lexer": "ipython3",
   "version": "3.11.6"
  }
 },
 "nbformat": 4,
 "nbformat_minor": 2
}
